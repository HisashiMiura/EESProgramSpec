{
 "cells": [
  {
   "cell_type": "code",
   "execution_count": 1,
   "metadata": {
    "collapsed": false
   },
   "outputs": [],
   "source": [
    "import numpy as np\n",
    "import matplotlib.pyplot as plt\n",
    "from decimal import Decimal\n",
    "from enum import Enum\n",
    "from collections import namedtuple\n",
    "from collections import OrderedDict\n",
    "from DirectionCoefficient import get_nu_H as DC_get_nu_H\n",
    "from DirectionCoefficient import get_nu_C as DC_get_nu_C"
   ]
  },
  {
   "cell_type": "markdown",
   "metadata": {},
   "source": [
    "# Envelope Performance / 外皮性能"
   ]
  },
  {
   "cell_type": "markdown",
   "metadata": {},
   "source": [
    "## 1. Introduction"
   ]
  },
  {
   "cell_type": "markdown",
   "metadata": {},
   "source": [
    "This calculation depends on the specification of \"Chapter III Heating / Cooling Load and Envelope Performance - II Envelope Performance\" in BRI."
   ]
  },
  {
   "cell_type": "markdown",
   "metadata": {},
   "source": [
    "## 2. Type"
   ]
  },
  {
   "cell_type": "markdown",
   "metadata": {},
   "source": [
    "### 2.1 Region / 地域区分 "
   ]
  },
  {
   "cell_type": "markdown",
   "metadata": {},
   "source": [
    "Region consists of 'region1', 'region2', 'region3', ... , 'region8' as string."
   ]
  },
  {
   "cell_type": "markdown",
   "metadata": {},
   "source": [
    "### 2.2 Direction / 方位"
   ]
  },
  {
   "cell_type": "markdown",
   "metadata": {},
   "source": [
    "Direction consists of 'S', 'SW', 'W', 'NW', 'N', 'NE', 'E', 'SE', 'top' and 'bottom' as string."
   ]
  },
  {
   "cell_type": "markdown",
   "metadata": {},
   "source": [
    "### 2.3 Adjacent Space type / 隣接空間"
   ]
  },
  {
   "cell_type": "markdown",
   "metadata": {},
   "source": [
    "Adjacent space type consists of 'External', 'SemiExternal' and 'Internal'.\n",
    "* External: Outdoor and the space connected to outdoor / 「外気」「外気に通じる空間」\n",
    "* SemiExternal: Space not connected outdoor and the underfloor space connected to outdoor / 「外気に通じていない空間」「外気に通じる床裏」\n",
    "* Internal: Internal and the space of the thermal environment semiler to the internal, and the underfloor space not connected to outdoor / 「住戸及び住戸と同様の熱的環境の空間」「外気に通じていない床裏」"
   ]
  },
  {
   "cell_type": "markdown",
   "metadata": {},
   "source": [
    "### 2.4 Type of Reference House for Simple Evaluation / 簡易法における標準住戸の種類 "
   ]
  },
  {
   "cell_type": "markdown",
   "metadata": {},
   "source": [
    "The type of reference house for simple evaluation consists below;  \n",
    "* floor_ins : Floor insulated house\n",
    "* base_ins  : Base insulated house\n",
    "* floor_and_base_ins : The house which hase the parts of both floor insulated part and base insulated part"
   ]
  },
  {
   "cell_type": "markdown",
   "metadata": {},
   "source": [
    "## 3. Functions"
   ]
  },
  {
   "cell_type": "markdown",
   "metadata": {},
   "source": [
    "### 3.1. Heat Loss Coefficient without Ventilation Loss / 熱損失係数(換気による熱損失を含まない)"
   ]
  },
  {
   "cell_type": "markdown",
   "metadata": {},
   "source": [
    "$ Q' = U_A \\times r_{env} $"
   ]
  },
  {
   "cell_type": "markdown",
   "metadata": {},
   "source": [
    "$Q'$ is the heat loss coefficient without ventilation loss / 熱損失係数(換気による熱損失を含まない) (W/m<sup>2</sup>K)  \n",
    "$U_A$ is the average envelope thermal transmittance rate / 外皮平均熱貫流率(W/m<sup>2</sup>K)  \n",
    "$r_{env}$ is the ratio of the total envelope parts area to the total floor area / 床面積の合計に対する外皮の部位の面積の合計の比"
   ]
  },
  {
   "cell_type": "code",
   "execution_count": 2,
   "metadata": {
    "collapsed": false
   },
   "outputs": [],
   "source": [
    "def get_Q_dash(U_A, r_env):\n",
    "    return U_A * r_env"
   ]
  },
  {
   "cell_type": "markdown",
   "metadata": {},
   "source": [
    "#### Comment"
   ]
  },
  {
   "cell_type": "markdown",
   "metadata": {},
   "source": [
    "The average envelope thermal transmittance rate is the value of the heat loss per the unit temperature difference $q$ divided by the total floor area $ A_f $.  \n",
    "$ U_A = q \\div A_f $  \n",
    "The heat loss coefficient withou ventilation loss is tha value of the heat loss per the unit temperature difference $q$ divided by the total envelope parts area $ A_{env} $.  \n",
    "$ Q' = q \\div A_{env} $  \n",
    "The ratio of the total envelope parts area to the total floor area $r_{env}$ is the coefficient for converting $U_A$ value to $Q'$ value."
   ]
  },
  {
   "cell_type": "markdown",
   "metadata": {},
   "source": [
    "#### Example"
   ]
  },
  {
   "cell_type": "code",
   "execution_count": 3,
   "metadata": {
    "collapsed": false
   },
   "outputs": [
    {
     "data": {
      "text/plain": [
       "2.227962191872085"
      ]
     },
     "execution_count": 3,
     "metadata": {},
     "output_type": "execute_result"
    }
   ],
   "source": [
    "get_Q_dash( 0.87 , 307.51/120.08 )"
   ]
  },
  {
   "cell_type": "markdown",
   "metadata": {},
   "source": [
    "### 3.2 Solar Gain Coefficient / 日射取得係数"
   ]
  },
  {
   "cell_type": "markdown",
   "metadata": {},
   "source": [
    "$ \\mu_H = \\frac { \\eta_{A,H} }{100} \\times r_{env} $"
   ]
  },
  {
   "cell_type": "markdown",
   "metadata": {},
   "source": [
    "$ \\mu_C = \\frac { \\eta_{A,C} }{100} \\times r_{env} $"
   ]
  },
  {
   "cell_type": "markdown",
   "metadata": {},
   "source": [
    "$ \\mu_H $ is the solar gain coefficient in the heating season / 暖房期の日射取得係数;  \n",
    "$ \\mu_C $ is the solar gain coefficient in the cooling season / 冷房期の日射取得係数;  \n",
    "$ \\eta_{A,H} $ is the average solar heat gain ratio in the heating season / 暖房期の平均日射熱取得率 (%);  \n",
    "$ \\eta_{A,C} $ is the average solar heat gain ratio in the cooling season / 冷房期の平均日射熱取得率 (%);  \n",
    "$r_{env}$ is the ratio of the total envelope parts area to the total floor area / 床面積の合計に対する外皮の部位の面積の合計の比."
   ]
  },
  {
   "cell_type": "code",
   "execution_count": 4,
   "metadata": {
    "collapsed": true
   },
   "outputs": [],
   "source": [
    "def get_mu_H(eta_A_H, r_env):\n",
    "    return eta_A_H * r_env / 100"
   ]
  },
  {
   "cell_type": "code",
   "execution_count": 5,
   "metadata": {
    "collapsed": true
   },
   "outputs": [],
   "source": [
    "def get_mu_C(eta_A_C, r_env):\n",
    "    return eta_A_C * r_env / 100"
   ]
  },
  {
   "cell_type": "markdown",
   "metadata": {},
   "source": [
    "#### Example"
   ]
  },
  {
   "cell_type": "code",
   "execution_count": 6,
   "metadata": {
    "collapsed": false
   },
   "outputs": [
    {
     "data": {
      "text/plain": [
       "0.11011767155229846"
      ]
     },
     "execution_count": 6,
     "metadata": {},
     "output_type": "execute_result"
    }
   ],
   "source": [
    "get_mu_H(4.3, 307.51/120.08 )"
   ]
  },
  {
   "cell_type": "code",
   "execution_count": 7,
   "metadata": {
    "collapsed": false
   },
   "outputs": [
    {
     "data": {
      "text/plain": [
       "0.07170453031312457"
      ]
     },
     "execution_count": 7,
     "metadata": {},
     "output_type": "execute_result"
    }
   ],
   "source": [
    "get_mu_C(2.8, 307.51/120.08 )"
   ]
  },
  {
   "cell_type": "markdown",
   "metadata": {},
   "source": [
    "### 3.3 Envelope Evaluation Method by Using Area of Envelope Units of Actual House / 当該住戸の外皮の部位の面積等を用いて外皮性能を評価する方法"
   ]
  },
  {
   "cell_type": "markdown",
   "metadata": {},
   "source": [
    "### 3.3-1 Average Envelope Thermal Transmittance Rate / 外皮平均熱貫流率"
   ]
  },
  {
   "cell_type": "markdown",
   "metadata": {},
   "source": [
    "Where there are any fractions after two decimal places of $U_A$ value, they shall be rounded up. "
   ]
  },
  {
   "cell_type": "markdown",
   "metadata": {},
   "source": [
    "$ \\displaystyle U_A = \\frac{ \\left( \\sum_i ( A_i \\times U_i \\times H_i ) + \\sum_i ( L_j \\times \\psi_j \\times H_j ) \\right) }{ A_{env} } $"
   ]
  },
  {
   "cell_type": "markdown",
   "metadata": {},
   "source": [
    "$U_A$ is the average envelope thermal transmittance rate / 外皮平均熱貫流率 (W/m<sup>2</sup>K);  \n",
    "$A_i$ is the area of the envelope unit $i$ / 外皮の部位(一般部位又は開口部)$i$の面積 (m<sup>2</sup>);  \n",
    "$U_i$ is the thermal transmittance rate of the envelope unit $i$ / 外皮の部位(一般部位又は開口部)$i$の熱貫流率 (W/m<sup>2</sup>K);  \n",
    "$H_i$ is the temperature difference coefficient of the envelope unit $i$ / 外皮の部位(一般部位又は開口部)$i$の温度差係数;  \n",
    "$L_j$ is the length of the heat bridge $j$ / 熱橋等(熱橋及び土間床等の外周部)$j$の長さ (m);  \n",
    "$\\psi_j$ is the linear thermal transmittance rate of the heat bridge $j$ / 熱橋等(熱橋及び土間床等の外周部)$j$の線熱貫流率 (W/mK);  \n",
    "$H_j$ is the temperature difference codfficient of the heat bridge $j$ / 熱橋等(熱橋及び土間床等の外周部)$j$の温度差係数;  \n",
    "$A_{env}$ is the total envelope parts area / 外皮の部位の面積の合計 (m<sup>2</sup>)."
   ]
  },
  {
   "cell_type": "code",
   "execution_count": 8,
   "metadata": {
    "collapsed": true
   },
   "outputs": [],
   "source": [
    "EnvelopePartU = namedtuple('EnvelopePartU', ('A', 'U', 'H' ) )"
   ]
  },
  {
   "cell_type": "markdown",
   "metadata": {},
   "source": [
    "A: Area / 面積 (m<sup>2</sup>)  \n",
    "U: thermal transmittance rate / 熱貫流率 (W/m<sup>2</sup>K)  \n",
    "H: temperature difference coefficient / 温度差係数 (-) "
   ]
  },
  {
   "cell_type": "code",
   "execution_count": 9,
   "metadata": {
    "collapsed": true
   },
   "outputs": [],
   "source": [
    "HeatBridgeU = namedtuple('HeatBridgeU', ('L', 'psi', 'H' ) )"
   ]
  },
  {
   "cell_type": "markdown",
   "metadata": {},
   "source": [
    "L: Length / 長さ (m)  \n",
    "psi: Linear Thermal Transmittance Rate / 線熱貫流率(W/mK)  \n",
    "H: temperature difference coefficient / 温度差係数 (-) "
   ]
  },
  {
   "cell_type": "code",
   "execution_count": 10,
   "metadata": {
    "collapsed": false
   },
   "outputs": [],
   "source": [
    "def get_UA( eps, hbs, A_env ):\n",
    "    # eps: list of 'ep', which is the namedtuple 'EnvelopePartU'\n",
    "    # hbs: list of 'hb', which is the namedtuple 'HeatBridgeU'\n",
    "    # A_env: total envelope parts area(m2)\n",
    "    return Decimal( (   sum([ ep.A * ep.U   * ep.H for ep in eps ])\n",
    "                      + sum([ hb.L * hb.psi * hb.H for hb in hbs ]) ) / A_env ).quantize( Decimal('0.00'), rounding = 'ROUND_UP' )"
   ]
  },
  {
   "cell_type": "markdown",
   "metadata": {},
   "source": [
    "#### Example"
   ]
  },
  {
   "cell_type": "markdown",
   "metadata": {},
   "source": [
    "Example house is below;  \n",
    "* 4m × 4m × 2.5m of base-insulated house ( roof 16 m<sup>2</sup>, wall 10 m<sup>2</sup> 4 pieces, perimeter length of base is 4 m 4 pieces )\n",
    "* $U$ is 1.0  \n",
    "* $\\psi$ is 1.8  \n",
    "* $H$ is 1.0  "
   ]
  },
  {
   "cell_type": "code",
   "execution_count": 11,
   "metadata": {
    "collapsed": false
   },
   "outputs": [
    {
     "data": {
      "text/plain": [
       "Decimal('1.08')"
      ]
     },
     "execution_count": 11,
     "metadata": {},
     "output_type": "execute_result"
    }
   ],
   "source": [
    "get_UA( [ EnvelopePartU( A = 10.0, U = 1.0, H = 1.0),\n",
    "          EnvelopePartU( A = 10.0, U = 1.0, H = 1.0),\n",
    "          EnvelopePartU( A = 10.0, U = 1.0, H = 1.0),\n",
    "          EnvelopePartU( A = 10.0, U = 1.0, H = 1.0),\n",
    "          EnvelopePartU( A = 16.0, U = 1.0, H = 1.0) ],\n",
    "        [ HeatBridgeU( L = 4.0, psi = 1.8, H = 1.0),\n",
    "          HeatBridgeU( L = 4.0, psi = 1.8, H = 1.0),\n",
    "          HeatBridgeU( L = 4.0, psi = 1.8, H = 1.0) ],\n",
    "          72.0 )"
   ]
  },
  {
   "cell_type": "markdown",
   "metadata": {},
   "source": [
    "### 3.3-2 Average Solar Heat Gain Ratio in Heating Season and Cooling Season / 暖房期の平均日射熱取得率及び冷房期の平均日射熱取得率"
   ]
  },
  {
   "cell_type": "markdown",
   "metadata": {},
   "source": [
    "Where there are any fractions after one decimal places of $\\eta_{A,H}$, they shall be rounded up. "
   ]
  },
  {
   "cell_type": "markdown",
   "metadata": {},
   "source": [
    "$ \\displaystyle \\eta_{A,H} = \\frac{ \\left( \\sum_i ( A_i \\times \\eta_{H,i} \\times \\nu_{H,i} ) + \\sum_j ( L_j \\times \\eta'_{H,j} \\times \\nu_{H,j} ) \\right) }{ A_{env} } \\times 100 $"
   ]
  },
  {
   "cell_type": "markdown",
   "metadata": {},
   "source": [
    "Where there are any fractions after one decimal places of $\\eta_{A,C}$, they shall be rounded down. "
   ]
  },
  {
   "cell_type": "markdown",
   "metadata": {},
   "source": [
    "$ \\displaystyle \\eta_{A,C} = \\frac{ \\left( \\sum_i ( A_i \\times \\eta_{C,i} \\times \\nu_{C,i} ) + \\sum_j ( L_j \\times \\eta'_{C,j} \\times \\nu_{C,j} ) \\right) }{ A_{env} } \\times 100 $"
   ]
  },
  {
   "cell_type": "markdown",
   "metadata": {},
   "source": [
    "$ \\eta_{A,H} $ is the average solar heat gain ratio in the heating season / 暖房期の平均日射熱取得率 (%);  \n",
    "$ \\eta_{A,C} $ is the average solar heat gain ratio in the cooling season / 冷房期の平均日射熱取得率 (%);  \n",
    "$ A_i $ is the area of the envelope unit $i$ / 外皮の部位(一般部位又は開口部)$i$の面積 (m<sup>2</sup>);  \n",
    "$ \\eta_{H,i} $ is the solar heat gain ratio of the envelope unit $i$ in the heating season / 外皮の部位(一般部位又は開口部)$i$の暖房期の日射熱取得率((W/m<sup>2</sup>)/(W/m<sup>2</sup>));  \n",
    "$ \\eta_{C,i} $ is the solar heat gain ratio of the envelope unit $i$ in the cooling season / 外皮の部位(一般部位又は開口部)$i$の冷房期の日射熱取得率((W/m<sup>2</sup>)/(W/m<sup>2</sup>));  \n",
    "$ \\nu_{H,i} $ is the direction coefficient of the envelope unit $i$ in the heating season / 外皮の部位(一般部位又は開口部)$i$の暖房期の方位係数;  \n",
    "$ \\nu_{C,i} $ is the direction coefficient of the envelope unit $i$ in the cooling season / 外皮の部位(一般部位又は開口部)$i$の冷房期の方位係数;  \n",
    "$ L_j $ is the length of the heat bridge $j$ / 熱橋等(熱橋及び土間床等の外周部)$j$の長さ (m);  \n",
    "$ \\eta_{H,j}' $ is the solar heat gain ratio of the heat bridge $j$ in the heating season / 熱橋等(熱橋及び土間床等の外周部)$j$の暖房期の日射熱取得率((W/m)/(W/m<sup>2</sup>));    \n",
    "$ \\eta_{C,j}' $ is the solar heat gain ratio of the heat bridge $j$ in the cooling season / 熱橋等(熱橋及び土間床等の外周部)$j$の冷房期の日射熱取得率((W/m)/(W/m<sup>2</sup>));    \n",
    "$ \\nu_{H,j} $ is the direction coefficient of the envelope unit $j$ in the heating season / 外皮の部位(一般部位又は開口部)$j$の暖房期の方位係数;  \n",
    "$ \\nu_{C,j} $ is the direction coefficient of the envelope unit $j$ in the cooling season / 外皮の部位(一般部位又は開口部)$j$の冷房期の方位係数;  \n",
    "$A_{env}$ is the total envelope parts area / 外皮の部位の面積の合計 (m<sup>2</sup>)."
   ]
  },
  {
   "cell_type": "code",
   "execution_count": 12,
   "metadata": {
    "collapsed": true
   },
   "outputs": [],
   "source": [
    "EnvelopePartEta = namedtuple('EnvelopePartEta', ('A', 'eta', 'nu' ) )"
   ]
  },
  {
   "cell_type": "markdown",
   "metadata": {},
   "source": [
    "Area: Area / 面積 (m<sup>2</sup>)  \n",
    "eta: Solar heat gain ratio / 日射熱取得率 ((W/m<sup>2</sup>)/(W/m<sup>2</sup>))  \n",
    "nu: Direction coefficient / 方位係数 "
   ]
  },
  {
   "cell_type": "code",
   "execution_count": 13,
   "metadata": {
    "collapsed": true
   },
   "outputs": [],
   "source": [
    "HeatBridgeEta = namedtuple('HeatBridgeEta', ('L', 'eta', 'nu1', 'nu2' ) )"
   ]
  },
  {
   "cell_type": "markdown",
   "metadata": {},
   "source": [
    "Length: Length / 長さ (m)  \n",
    "eta: Solar heat gain ratio / 日射熱取得率 ((W/m)/(W/m<sup>2</sup>))  \n",
    "nu1: Direction coefficient 1 / 方位係数 1   \n",
    "nu2: Direction coefficient 2 / 方位係数 2 "
   ]
  },
  {
   "cell_type": "code",
   "execution_count": 14,
   "metadata": {
    "collapsed": true
   },
   "outputs": [],
   "source": [
    "def get_eta_A_H(eps, hbs, A_env):\n",
    "    # eps: list of 'ep', which is the namedtuple 'EnvelopePartEta'\n",
    "    # hbs: list of 'hb', which is the namedtuple 'HeatBridgeEta'\n",
    "    # A_env: total envelope parts area(m2)\n",
    "    return Decimal( (   sum([ ep.A * ep.eta * ep.nu                 for ep in eps ])\n",
    "                      + sum([ hb.L * hb.eta * ( hb.nu1 + hb.nu2 )/2 for hb in hbs ]) ) / A_env * 100\n",
    "                     ).quantize(Decimal('0.0'), rounding = 'ROUND_DOWN')"
   ]
  },
  {
   "cell_type": "code",
   "execution_count": 15,
   "metadata": {
    "collapsed": true
   },
   "outputs": [],
   "source": [
    "def get_eta_A_C(eps, hbs, A_env):\n",
    "    # eps: list of 'ep', which is the namedtuple 'EnvelopePartEta'\n",
    "    # hbs: list of 'hb', which is the namedtuple 'HeatBridgeEta'\n",
    "    # A_env: total envelope parts area(m2)\n",
    "    return Decimal( (   sum([ ep.A * ep.eta * ep.nu                 for ep in eps ])\n",
    "                      + sum([ hb.L * hb.eta * ( hb.nu1 + hb.nu2 )/2 for hb in hbs ]) ) / A_env * 100 \n",
    "                     ).quantize(Decimal('0.0'), rounding = 'ROUND_UP')"
   ]
  },
  {
   "cell_type": "markdown",
   "metadata": {},
   "source": [
    "#### Comment"
   ]
  },
  {
   "cell_type": "markdown",
   "metadata": {},
   "source": [
    "熱橋は、長さ・線熱損失係数・暖房期の日射熱取得率・冷房期の日射熱取得率・方位1と方位2・隣接空間の種類をもつ。熱橋は多くの場合、隅角部等に発生し、2方位に面する場合が多いため、方位1と方位2を持つことにする。方位1と方位2に順番は無い。また、T型熱橋など、接続する部位が同じ方位を持つ場合は、方位1と方位2に同じ方位を入力すること。  \n",
    "ただし、熱橋の日射熱取得率は、本来であれば、  \n",
    "$\\begin{align} \\eta = \\gamma \\times 0.034 \\times \\frac{ L \\times \\psi }{ A } \\end{align}$  \n",
    "で表されるのに対し、  \n",
    "$\\begin{align} \\eta' = \\gamma \\times 0.034 \\times \\psi \\end{align} $  \n",
    "で表されることとする。  \n",
    "ここで、  \n",
    "$\\eta$: 日射熱取得率(-)  \n",
    "$\\eta'$: 熱橋の日射熱取得率(m)  \n",
    "従って、$ m $ 値(m<sup>2</sup>)の計算において、仕様書によると、  \n",
    "$\\begin{align} m = A \\times \\eta \\times \\nu \\end{align} $  \n",
    "ではなく、  \n",
    "$\\begin{align} m = L \\times \\eta' \\times \\nu \\end{align} $  \n",
    "で計算される。"
   ]
  },
  {
   "cell_type": "markdown",
   "metadata": {},
   "source": [
    "#### Example"
   ]
  },
  {
   "cell_type": "markdown",
   "metadata": {},
   "source": [
    "Example house is below;  \n",
    "* 4m × 4m × 2.5m of base-insulated house ( roof 16 m<sup>2</sup>, wall 10 m<sup>2</sup> 4 pieces, perimeter length of base is 4 m 4 pieces )\n",
    "* $\\eta$ is 0.034  \n",
    "* $\\eta'$ is 0.05  \n",
    "* $\\nu$ is the value at east, west, south and north.\n",
    "        0.579 (east), 0.523 (west), 0.936 (south) and 0.261 (north) 1.0 (top) in heating season;\n",
    "        0.512 (east), 0.504 (west), 0.434 (south) and 0.341 (north) 1.0 (top) in cooling season;"
   ]
  },
  {
   "cell_type": "code",
   "execution_count": 16,
   "metadata": {
    "collapsed": false
   },
   "outputs": [
    {
     "data": {
      "text/plain": [
       "Decimal('2.6')"
      ]
     },
     "execution_count": 16,
     "metadata": {},
     "output_type": "execute_result"
    }
   ],
   "source": [
    "get_eta_A_H( [ EnvelopePartEta(A = 10.0, eta = 0.034, nu = 0.579),\n",
    "               EnvelopePartEta(A = 10.0, eta = 0.034, nu = 0.523),\n",
    "               EnvelopePartEta(A = 10.0, eta = 0.034, nu = 0.936),\n",
    "               EnvelopePartEta(A = 10.0, eta = 0.034, nu = 0.261),\n",
    "               EnvelopePartEta(A = 16.0, eta = 0.034, nu = 1.000) ], \n",
    "             [ HeatBridgeEta(L = 2.5, eta = 0.05, nu1 = 0.579, nu2 = 0.523),\n",
    "               HeatBridgeEta(L = 2.5, eta = 0.05, nu1 = 0.523, nu2 = 0.936),\n",
    "               HeatBridgeEta(L = 2.5, eta = 0.05, nu1 = 0.936, nu2 = 0.261),\n",
    "               HeatBridgeEta(L = 2.5, eta = 0.05, nu1 = 0.261, nu2 = 0.579),\n",
    "               HeatBridgeEta(L = 2.0, eta = 0.05, nu1 = 0.579, nu2 = 1.000),\n",
    "               HeatBridgeEta(L = 2.0, eta = 0.05, nu1 = 0.523, nu2 = 1.000),\n",
    "               HeatBridgeEta(L = 2.0, eta = 0.05, nu1 = 0.936, nu2 = 1.000),\n",
    "               HeatBridgeEta(L = 2.0, eta = 0.05, nu1 = 0.261, nu2 = 1.000) ],\n",
    "             72.0 )"
   ]
  },
  {
   "cell_type": "code",
   "execution_count": 17,
   "metadata": {
    "collapsed": false
   },
   "outputs": [
    {
     "data": {
      "text/plain": [
       "Decimal('2.4')"
      ]
     },
     "execution_count": 17,
     "metadata": {},
     "output_type": "execute_result"
    }
   ],
   "source": [
    "get_eta_A_C( [ EnvelopePartEta(A = 10.0, eta = 0.034, nu = 0.512),\n",
    "               EnvelopePartEta(A = 10.0, eta = 0.034, nu = 0.504),\n",
    "               EnvelopePartEta(A = 10.0, eta = 0.034, nu = 0.434),\n",
    "               EnvelopePartEta(A = 10.0, eta = 0.034, nu = 0.341),\n",
    "               EnvelopePartEta(A = 16.0, eta = 0.034, nu = 1.000) ],\n",
    "             [ HeatBridgeEta(L = 2.5, eta = 0.05, nu1 = 0.512, nu2 = 0.504),\n",
    "               HeatBridgeEta(L = 2.5, eta = 0.05, nu1 = 0.504, nu2 = 0.434),\n",
    "               HeatBridgeEta(L = 2.5, eta = 0.05, nu1 = 0.434, nu2 = 0.341),\n",
    "               HeatBridgeEta(L = 2.5, eta = 0.05, nu1 = 0.341, nu2 = 0.512),\n",
    "               HeatBridgeEta(L = 2.0, eta = 0.05, nu1 = 0.512, nu2 = 1.000),\n",
    "               HeatBridgeEta(L = 2.0, eta = 0.05, nu1 = 0.523, nu2 = 1.000),\n",
    "               HeatBridgeEta(L = 2.0, eta = 0.05, nu1 = 0.936, nu2 = 1.000),\n",
    "               HeatBridgeEta(L = 2.0, eta = 0.05, nu1 = 0.261, nu2 = 1.000) ],\n",
    "             72.0 )"
   ]
  },
  {
   "cell_type": "markdown",
   "metadata": {},
   "source": [
    "### 3.3-3 Ratio of Total Envelope Parts Area to Total Floor Area  / 床面積の合計に対する外皮の部位の面積の合計の比"
   ]
  },
  {
   "cell_type": "markdown",
   "metadata": {},
   "source": [
    "$ \\displaystyle r_{env} = \\frac{ A_{env} }{ A_A } $ "
   ]
  },
  {
   "cell_type": "markdown",
   "metadata": {},
   "source": [
    "$r_{env}$ is the ratio of the total envelope parts area to the total floor area / 床面積の合計に対する外皮の部位の面積の合計の比;  \n",
    "$A_{env}$ is the total envelope parts area / 外皮の部位の面積の合計 (m<sup>2</sup>);  \n",
    "$A_A$ is the total floor area / 床面積の合計 (m<sup>2</sup>)."
   ]
  },
  {
   "cell_type": "code",
   "execution_count": 18,
   "metadata": {
    "collapsed": false
   },
   "outputs": [],
   "source": [
    "def get_r_env(A_env, A_A):\n",
    "    return A_env / A_A"
   ]
  },
  {
   "cell_type": "markdown",
   "metadata": {},
   "source": [
    "#### Example"
   ]
  },
  {
   "cell_type": "code",
   "execution_count": 19,
   "metadata": {
    "collapsed": false
   },
   "outputs": [
    {
     "data": {
      "text/plain": [
       "2.560876082611592"
      ]
     },
     "execution_count": 19,
     "metadata": {},
     "output_type": "execute_result"
    }
   ],
   "source": [
    "get_r_env( 307.51, 120.08 )"
   ]
  },
  {
   "cell_type": "markdown",
   "metadata": {},
   "source": [
    "### 3.3-4 Total Envelope Parts Area /  外皮の部位の面積の合計"
   ]
  },
  {
   "cell_type": "markdown",
   "metadata": {},
   "source": [
    "$$ A_{env} = \\sum_i A_i + \\sum_k A_{EF,k} $$"
   ]
  },
  {
   "cell_type": "markdown",
   "metadata": {},
   "source": [
    "$ A_{env} $ is the total envelope parts area / 外皮の部位の面積の合計 (m<sup>2</sup>);  \n",
    "$ A_i $ is the area of the envelope unit $i$ / 外皮の部位(一般部位又は開口部)$i$の面積 (m<sup>2</sup>);  \n",
    "$ A_{EF,k} $ is the area of the earth floor $k$ / (当該住戸の)土間床等 $k$ の面積 (m<sup>2</sup>)."
   ]
  },
  {
   "cell_type": "code",
   "execution_count": 20,
   "metadata": {
    "collapsed": true
   },
   "outputs": [],
   "source": [
    "def get_A_env(A, A_EF):\n",
    "    # A: list of envelope units\n",
    "    # A_EF: list of earth floors\n",
    "    return sum(A) + sum(A_EF)"
   ]
  },
  {
   "cell_type": "markdown",
   "metadata": {},
   "source": [
    "#### Example"
   ]
  },
  {
   "cell_type": "markdown",
   "metadata": {},
   "source": [
    "* A base insulated house of 4m * 4m * 2.5m ( roof 16 m<sup>2</sup>, wall 10 m<sup>2</sup> 4 pieces, earth floor 16 m<sup>2</sup> )"
   ]
  },
  {
   "cell_type": "code",
   "execution_count": 21,
   "metadata": {
    "collapsed": false
   },
   "outputs": [
    {
     "data": {
      "text/plain": [
       "72.0"
      ]
     },
     "execution_count": 21,
     "metadata": {},
     "output_type": "execute_result"
    }
   ],
   "source": [
    "get_A_env( [10.0, 10.0, 10.0, 10.0, 16.0], [16.0] )"
   ]
  },
  {
   "cell_type": "markdown",
   "metadata": {},
   "source": [
    "### 3.4 Envelope Evaluation Method by Not Using Area of Envelope Units of Actual House / 当該住戸の外皮の部位の面積等を用いずに外皮性能を評価する方法"
   ]
  },
  {
   "cell_type": "markdown",
   "metadata": {},
   "source": [
    "### 3.4-1 Average Envelope Thermal Transmittance Rate / 外皮平均熱貫流率"
   ]
  },
  {
   "cell_type": "markdown",
   "metadata": {},
   "source": [
    "Where there are any fractions after two decimal places of $U_A$ value, they shall be rounded up. "
   ]
  },
  {
   "cell_type": "markdown",
   "metadata": {},
   "source": [
    "$ \\displaystyle U_A = \\frac{ q }{ A_{env} } $"
   ]
  },
  {
   "cell_type": "markdown",
   "metadata": {},
   "source": [
    "$U_A$ is the average envelope thermal transmittance rate / 外皮平均熱貫流率 (W/m<sup>2</sup>K);  \n",
    "$q$ is the envelope heat loss per unit temperature difference / 単位温度差当たりの外皮熱損失量(W/K);   \n",
    "$A_{env}$ is the total envelope parts area / 外皮の部位の面積の合計 (m<sup>2</sup>)."
   ]
  },
  {
   "cell_type": "markdown",
   "metadata": {},
   "source": [
    "$ \\begin{align}\n",
    "    q &= A_{roof} \\times H_{roof} \\times U_{roof} \\\\\n",
    "      &+ ( A_{wall,0} + A_{wall,90} + A_{wall,180} + A_{wall,270} ) \\times H_{wall} \\times U_{wall} \\\\\n",
    "      &+ ( A_{door,0} + A_{door,90} + A_{door,180} + A_{door,270} ) \\times H_{door} \\times U_{door} \\\\\n",
    "      &+ ( A_{wnd,0}  + A_{wnd,90}  + A_{wnd,180}  + A_{wnd,270}  ) \\times H_{wnd}  \\times U_{wnd}  \\\\\n",
    "      &+ A_{floor,o} \\times H_{floor} \\times U_{floor,o} \\\\\n",
    "      &+ A_{floor,b} \\times H_{floor} \\times U_{floor,b} \\\\\n",
    "      &+ ( ( A_{base,o,OS,0} + A_{base,o,OS,90} + A_{base,o,OS,180} + A_{base,o,OS,270} ) \\times H_{base,OS} + A_{base,o,IS} \\times H_{base,IS} ) \\times U_{base,o} \\\\\n",
    "      &+ ( ( A_{base,e,OS,0} + A_{base,e,OS,90} + A_{base,e,OS,180} + A_{base,e,OS,270} ) \\times H_{base,OS} + A_{base,e,IS} \\times H_{base,IS} ) \\times U_{base,e} \\\\\n",
    "      &+ ( ( A_{base,b,OS,0} + A_{base,b,OS,90} + A_{base,b,OS,180} + A_{base,b,OS,270} ) \\times H_{base,OS} + A_{base,b,IS} \\times H_{base,IS} ) \\times U_{base,b} \\\\\n",
    "      &+ ( ( L_{prm,o,OS,0} + L_{prm,o,OS,90} + L_{prm,o,OS,180} + L_{prm,o,OS,270} ) \\times H_{prm,OS} + L_{prm,o,IS} \\times H_{prm,IS} ) \\times \\psi_{prm,o} \\\\\n",
    "      &+ ( ( L_{prm,e,OS,0} + L_{prm,e,OS,90} + L_{prm,e,OS,180} + L_{prm,e,OS,270} ) \\times H_{prm,OS} + L_{prm,e,IS} \\times H_{prm,IS} ) \\times \\psi_{prm,e} \\\\\n",
    "      &+ ( ( L_{prm,b,OS,0} + L_{prm,b,OS,90} + L_{prm,b,OS,180} + L_{prm,b,OS,270} ) \\times H_{prm,OS} + L_{prm,b,IS} \\times H_{prm,IS} ) \\times \\psi_{prm,b} \\\\\n",
    "\\end{align}$  "
   ]
  },
  {
   "cell_type": "markdown",
   "metadata": {},
   "source": [
    "$ A $ is the area / 面積 (m<sup>2</sup>);  \n",
    "$ L $ is the length / 長さ (m);  \n",
    "$ H $ is the temperature difference coefficient / 温度差係数;  \n",
    "$ U $ is the thermal transmittance rate / 熱貫流率 (W/m<sup>2</sup>K);  \n",
    "$ \\psi $ is the linear thermal transmittance rate / 線熱貫流率 (W/mK).  \n",
    "\n",
    "subscript  \n",
    "roof : the roof / 屋根;  \n",
    "wall : the (external) wall / 壁;  \n",
    "door : the door / ドア;  \n",
    "wnd : the window / 窓;  \n",
    "floor : the (external) floor / 床;  \n",
    "base : the base / 基礎;  \n",
    "prm : the perimeter of the earth floor / 土間床外周部;  \n",
    "e : the entrance / 玄関部分;  \n",
    "b : the bath / 浴室;  \n",
    "o : the part except the entrance and the bath / 玄関部分及び浴室を除く部分;  \n",
    "0,90,180,270 : the direction of 0, 90, 180 and 270 degree of clockwise from the south / 南から時計回りに0,90,180,270度の方向;  \n",
    "OS,IS : the outside and inside / 室外側及び室内側."
   ]
  },
  {
   "cell_type": "code",
   "execution_count": 22,
   "metadata": {
    "collapsed": false
   },
   "outputs": [],
   "source": [
    "Orientation = namedtuple('Orientation', ('D0', 'D90', 'D180', 'D270') )"
   ]
  },
  {
   "cell_type": "markdown",
   "metadata": {},
   "source": [
    "D0:   direction of   0 degree of clockwise from the south    \n",
    "D90:  direction of  90 degree of clockwise from the south  \n",
    "D180: direction of 180 degree of clockwise from the south  \n",
    "D270: direction of 270 degree of clockwise from the south  "
   ]
  },
  {
   "cell_type": "code",
   "execution_count": 23,
   "metadata": {
    "collapsed": true
   },
   "outputs": [],
   "source": [
    "def get_simple_U_A (A, L, H,\n",
    "                    U_roof, U_wall, U_door, U_wnd, U_floor_o, U_base_o, U_base_e,\n",
    "                    psi_prm_o, psi_prm_e ):\n",
    "    # A : Area\n",
    "    #     roof, floor_o, base_o_IS, base_e_IS, total_env : float\n",
    "    #     wall, door, window, base_o_OS, base_e_OS : namedtuple 'Orientation' which has D0,D90,D180 and D270 as float\n",
    "    # L : Length\n",
    "    #     prm_o_IS, prm_e_IS : float\n",
    "    #     prm_o_OS, prm_e_OS : namedtuple 'Orientation' which has D0,D90,D180 and D270 as float\n",
    "    # H : Temperature difference coefficient\n",
    "    #     roof, wall, door, window, floor, base_OS, base_IS, prm_OS, prm_IS: float\n",
    "    # U_roof, U_wall, U_door, U_wnd, U_floor_o, U_base_o, U_base_e: float\n",
    "    # psi_prm_o, psi_prm_e: float\n",
    "    # A_env: float\n",
    "\n",
    "    q = A['roof']        * H['roof']   * U_roof    \\\n",
    "      + sum(A['wall'])   * H['wall']   * U_wall    \\\n",
    "      + sum(A['door'])   * H['door']   * U_door    \\\n",
    "      + sum(A['window']) * H['window'] * U_wnd     \\\n",
    "      + A['floor_o']     * H['floor']  * U_floor_o \\\n",
    "      + ( sum(A['base_o_OS']) * H['base_OS'] + A['base_o_IS'] * H['base_IS'] ) * U_base_o  \\\n",
    "      + ( sum(A['base_e_OS']) * H['base_OS'] + A['base_e_IS'] * H['base_IS'] ) * U_base_e  \\\n",
    "      + ( sum(L['prm_o_OS'])  * H['prm_OS']  + L['prm_o_IS']  * H['prm_IS']  ) * psi_prm_o \\\n",
    "      + ( sum(L['prm_e_OS'])  * H['prm_OS']  + L['prm_e_IS']  * H['prm_IS']  ) * psi_prm_e        \n",
    "    \n",
    "    return Decimal(q / A['total_env']).quantize(Decimal('0.00'), rounding='ROUND_UP')"
   ]
  },
  {
   "cell_type": "markdown",
   "metadata": {},
   "source": [
    "#### Example"
   ]
  },
  {
   "cell_type": "code",
   "execution_count": 24,
   "metadata": {
    "collapsed": false
   },
   "outputs": [
    {
     "data": {
      "text/plain": [
       "Decimal('0.97')"
      ]
     },
     "execution_count": 24,
     "metadata": {},
     "output_type": "execute_result"
    }
   ],
   "source": [
    "get_simple_U_A ( A = {\n",
    "                     'roof'      : 50.85,\n",
    "                     'wall'      : Orientation(30.47, 22.37, 47.92, 22.28),\n",
    "                     'door'      : Orientation(0.0, 1.89, 1.62, 0.0),\n",
    "                     'window'    : Orientation(22.69, 2.38, 3.63, 4.37),\n",
    "                     'floor_o'   : 45.05,\n",
    "                     'base_o_OS' : Orientation(0.00, 0.91, 0.91, 0.00),\n",
    "                     'base_o_IS' : 1.82, \n",
    "                     'base_e_OS' : Orientation(0.00, 0.33, 0.25, 0.00),\n",
    "                     'base_e_IS' : 0.57,\n",
    "                     'total_env' : 266.10\n",
    "                 },\n",
    "                 L = {\n",
    "                     'prm_o_OS' : Orientation(  0.00, 1.82, 1.82, 0.00 ),\n",
    "                     'prm_o_IS' : 3.64,\n",
    "                     'prm_e_OS' : Orientation(  0.00, 1.82, 1.37, 0.00 ),\n",
    "                     'prm_e_IS' : 3.19\n",
    "                 },\n",
    "                 H = {\n",
    "                     'roof'    : 1.0,\n",
    "                     'wall'    : 1.0,\n",
    "                     'door'    : 1.0,\n",
    "                     'window'  : 1.0,\n",
    "                     'floor'   : 0.7,\n",
    "                     'base_OS' : 1.0,\n",
    "                     'base_IS' : 0.7,\n",
    "                     'prm_OS'  : 1.0,\n",
    "                     'prm_IS'  : 0.7\n",
    "                 },\n",
    "                 U_roof = 1.0, U_wall = 1.0, U_door = 1.0, U_wnd = 1.0, \n",
    "                 U_floor_o = 1.0, U_base_o = 1.0, U_base_e = 1.0,\n",
    "                 psi_prm_o = 1.0, psi_prm_e = 1.0 )                    "
   ]
  },
  {
   "cell_type": "markdown",
   "metadata": {},
   "source": [
    "### 3.4-2 Direction Coefficient / 方位係数"
   ]
  },
  {
   "cell_type": "markdown",
   "metadata": {},
   "source": [
    "Main direction is the southwest."
   ]
  },
  {
   "cell_type": "code",
   "execution_count": 25,
   "metadata": {
    "collapsed": false
   },
   "outputs": [],
   "source": [
    "def get_simple_Orientation_value_from_Direction(direction):\n",
    "    # direction: [(S,SW,W,NW,N,NE,E,SE,top,bottom)の辞書型]\n",
    "    return Orientation(\n",
    "        D0   = direction['SW'],\n",
    "        D90  = direction['NW'],\n",
    "        D180 = direction['NE'],\n",
    "        D270 = direction['SE']\n",
    "    )"
   ]
  },
  {
   "cell_type": "markdown",
   "metadata": {},
   "source": [
    "### 3.4-3 Average Solar Heat Gain Ratio in Heating and Cooling Season / 暖房期の平均日射熱取得率及び冷房期の平均日射熱取得率"
   ]
  },
  {
   "cell_type": "markdown",
   "metadata": {},
   "source": [
    "Where there are any fractions after one decimal places of $\\eta_{A,H}$, they shall be rounded down. "
   ]
  },
  {
   "cell_type": "markdown",
   "metadata": {},
   "source": [
    "$ \\displaystyle \\eta_{A,H} = \\frac{m_H}{A_{env}} \\times 100 $"
   ]
  },
  {
   "cell_type": "markdown",
   "metadata": {},
   "source": [
    "$ \\eta_{A,H} $ is the average solar heat gain ratio in the heating season / 暖房期の平均日射熱取得率 (%);  \n",
    "$ m_H $ is the solar heat gain in the heating season per unit solar radiation intensity / 単位日射強度当たりの暖房期の日射熱取得量(W/(W/m<sup>2</sup>));  \n",
    "$ A_{env} $ is the total envelope parts area / 外皮の部位の面積の合計 (m<sup>2</sup>)."
   ]
  },
  {
   "cell_type": "markdown",
   "metadata": {},
   "source": [
    "Where there are any fractions after one decimal places of $\\eta_{A,C}$, they shall be rounded up. "
   ]
  },
  {
   "cell_type": "markdown",
   "metadata": {},
   "source": [
    "$ \\displaystyle \\eta_{A,C} = \\frac{m_C}{A_{env}} \\times 100 $"
   ]
  },
  {
   "cell_type": "markdown",
   "metadata": {},
   "source": [
    "$ \\eta_{A,C} $ is the average solar heat gain ratio in the cooling season / 冷房期の平均日射熱取得率 (%);  \n",
    "$ m_C $ is the solar heat gain in the cooling season per unit solar radiation intensity / 単位日射強度当たりの冷房期の日射熱取得量(W/(W/m<sup>2</sup>))."
   ]
  },
  {
   "cell_type": "markdown",
   "metadata": {},
   "source": [
    "$ \\begin{align}\n",
    "    m_H &= A_{roof} \\times \\nu_{H,top} \\times \\eta_{H,roof} \\\\\n",
    "        &+ ( A_{wall,0} \\times \\nu_{H,0} + A_{wall,90} \\times \\nu_{H,90} + A_{wall,180} \\times \\nu_{H,180} + A_{wall,270} \\times \\nu_{H,270} ) \\times \\eta_{H,wall} \\\\\n",
    "        &+ ( A_{door,0} \\times \\nu_{H,0} + A_{door,90} \\times \\nu_{H,90} + A_{door,180} \\times \\nu_{H,180} + A_{door,270} \\times \\nu_{H,270} ) \\times \\eta_{H,door} \\\\\n",
    "        &+ A_{wnd,0} \\times \\nu_{H,0} \\times \\eta_{H,wnd,0} + A_{wnd,90} \\times \\nu_{H,90} \\times \\eta_{H,wnd,90} \\\\\n",
    "        &+ A_{wnd,180} \\times \\nu_{H,180} \\times \\eta_{H,wnd,180} + A_{wnd,270} \\times \\nu_{H,270} \\times \\eta_{H,wnd,270} \\\\\n",
    "        &+ ( A_{base,o,0} \\times \\nu_{H,0} + A_{base,o,90} \\times \\nu_{H,90} + A_{base,o,180} \\times \\nu_{H,180} + A_{base,o,270} \\times \\nu_{H,270} ) \\times \\eta_{H,base,o} \\\\\n",
    "        &+ ( A_{base,e,0} \\times \\nu_{H,0} + A_{base,e,90} \\times \\nu_{H,90} + A_{base,e,180} \\times \\nu_{H,180} + A_{base,e,270} \\times \\nu_{H,270} ) \\times \\eta_{H,base,e} \\\\\n",
    "\\end{align}$  "
   ]
  },
  {
   "cell_type": "markdown",
   "metadata": {},
   "source": [
    "$ \\begin{align}\n",
    "    m_C &= A_{roof} \\times \\nu_{C,top} \\times \\eta_{C,roof} \\\\\n",
    "        &+ ( A_{wall,0} \\times \\nu_{C,0} + A_{wall,90} \\times \\nu_{C,90} + A_{wall,180} \\times \\nu_{C,180} + A_{wall,270} \\times \\nu_{C,270} ) \\times \\eta_{C,wall} \\\\\n",
    "        &+ ( A_{door,0} \\times \\nu_{C,0} + A_{door,90} \\times \\nu_{C,90} + A_{door,180} \\times \\nu_{C,180} + A_{door,270} \\times \\nu_{C,270} ) \\times \\eta_{C,door} \\\\\n",
    "        &+ A_{wnd,0} \\times \\nu_{C,0} \\times \\eta_{C,wnd,0} + A_{wnd,90} \\times \\nu_{C,90} \\times \\eta_{C,wnd,90} \\\\\n",
    "        &+ A_{wnd,180} \\times \\nu_{C,180} \\times \\eta_{C,wnd,180} + A_{wnd,270} \\times \\nu_{C,270} \\times \\eta_{C,wnd,270} \\\\\n",
    "        &+ ( A_{base,o,0} \\times \\nu_{C,0} + A_{base,o,90} \\times \\nu_{C,90} + A_{base,o,180} \\times \\nu_{C,180} + A_{base,o,270} \\times \\nu_{C,270} ) \\times \\eta_{C,base,o} \\\\\n",
    "        &+ ( A_{base,e,0} \\times \\nu_{C,0} + A_{base,e,90} \\times \\nu_{C,90} + A_{base,e,180} \\times \\nu_{C,180} + A_{base,e,270} \\times \\nu_{C,270} ) \\times \\eta_{C,base,e}\n",
    "\\end{align}$  "
   ]
  },
  {
   "cell_type": "markdown",
   "metadata": {},
   "source": [
    "$ A $ is the area / 面積 (m<sup>2</sup>);  \n",
    "$ \\nu $ is the direction coefficient / 方位係数;  \n",
    "$ \\eta $ is the solar heat gain ratio / 日射熱取得率  \n",
    "\n",
    "subscript  \n",
    "roof : the roof / 屋根;  \n",
    "wall : the (external) wall / 壁;  \n",
    "door : the door / ドア;  \n",
    "wnd : the window / 窓;  \n",
    "base : the base / 基礎;  \n",
    "e : the entrance / 玄関部分;  \n",
    "b : the bath / 浴室;  \n",
    "o : the part except the entrance and the bath / 玄関部分及び浴室を除く部分;  \n",
    "0,90,180,270 : the direction of 0, 90, 180 and 270 degree of clockwise from the south / 南から時計回りに0,90,180,270度の方向;  \n",
    "top : the direction of the top / 上向き方向;  \n",
    "OS,IS : the outside and inside / 室外側及び室内側;  \n",
    "H : heating season / 暖房期;  \n",
    "C : cooling season / 冷房期.  "
   ]
  },
  {
   "cell_type": "code",
   "execution_count": 26,
   "metadata": {
    "collapsed": false
   },
   "outputs": [],
   "source": [
    "def get_simple_eta_A_H(A, nu_H_top, nu_H, eta_H_roof, eta_H_wall, eta_H_door, eta_H_wnd, eta_H_base_o, eta_H_base_e):\n",
    "    # A : Area\n",
    "    #     roof, total_env : float\n",
    "    #     wall, door, window, base_o_OS, base_e_OS : namedtuple 'Orientation' which has D0,D90,D180 and D270 as float\n",
    "    # nu_H_top; float\n",
    "    # nu_H: namedtuple 'Orientation' which has D0,D90,D180 and D270 as float\n",
    "    # eta_H_roof, eta_H_wall, eta_H_door, eta_H_base, eta_H_base_d: float\n",
    "    # eta_H_wnd: namedtuple 'Orientation' which has D0,D90,D180 and D270 as float\n",
    "    # A_env: float\n",
    "    m_H = A['roof'] * nu_H_top * eta_H_roof \\\n",
    "        + ( np.array(A['wall'])      * np.array(nu_H) ).sum() * eta_H_wall \\\n",
    "        + ( np.array(A['door'])      * np.array(nu_H) ).sum() * eta_H_door \\\n",
    "        + ( np.array(A['window'])    * np.array(nu_H) * np.array(eta_H_wnd) ).sum() \\\n",
    "        + ( np.array(A['base_o_OS']) * np.array(nu_H) ).sum() * eta_H_base_o \\\n",
    "        + ( np.array(A['base_e_OS']) * np.array(nu_H) ).sum() * eta_H_base_e\n",
    "\n",
    "    return Decimal( m_H / A['total_env'] * 100 ).quantize(Decimal('0.0'), rounding = 'ROUND_DOWN')"
   ]
  },
  {
   "cell_type": "code",
   "execution_count": 27,
   "metadata": {
    "collapsed": true
   },
   "outputs": [],
   "source": [
    "def get_simple_eta_A_C(A, nu_C_top, nu_C, eta_C_roof, eta_C_wall, eta_C_door, eta_C_wnd, eta_C_base_o, eta_C_base_e):\n",
    "    # A : Area\n",
    "    #     roof, total_env : float\n",
    "    #     wall, door, window, base_o_OS, base_e_OS : namedtuple 'Orientation' which has D0,D90,D180 and D270 as float\n",
    "    # nu_C_top; float\n",
    "    # nu_C: namedtuple 'Orientation' which has D0,D90,D180 and D270 as float\n",
    "    # eta_C_roof, eta_H_wall, eta_H_door, eta_H_base, eta_H_base_d: float\n",
    "    # eta_C_wnd: namedtuple 'Orientation' which has D0,D90,D180 and D270 as float\n",
    "    # A_env: float\n",
    "    m_C = A['roof'] * nu_C_top * eta_C_roof \\\n",
    "        + ( np.array(A['wall'])      * np.array(nu_C) ).sum() * eta_C_wall \\\n",
    "        + ( np.array(A['door'])      * np.array(nu_C) ).sum() * eta_C_door \\\n",
    "        + ( np.array(A['window'])    * np.array(nu_C) * np.array(eta_C_wnd) ).sum() \\\n",
    "        + ( np.array(A['base_o_OS']) * np.array(nu_C) ).sum() * eta_C_base_o \\\n",
    "        + ( np.array(A['base_e_OS']) * np.array(nu_C) ).sum() * eta_C_base_e\n",
    "\n",
    "    return Decimal( m_C / A['total_env'] * 100 ).quantize(Decimal('0.0'), rounding = 'ROUND_UP')"
   ]
  },
  {
   "cell_type": "markdown",
   "metadata": {},
   "source": [
    "#### Example"
   ]
  },
  {
   "cell_type": "code",
   "execution_count": 28,
   "metadata": {
    "collapsed": false
   },
   "outputs": [
    {
     "data": {
      "text/plain": [
       "Decimal('5.7')"
      ]
     },
     "execution_count": 28,
     "metadata": {},
     "output_type": "execute_result"
    }
   ],
   "source": [
    "get_simple_eta_A_H({\n",
    "                     'roof'      : 50.85,\n",
    "                     'wall'      : Orientation(30.47, 22.37, 47.92, 22.28),\n",
    "                     'door'      : Orientation(0.0, 1.89, 1.62, 0.0),\n",
    "                     'window'    : Orientation(22.69, 2.38, 3.63, 4.37),\n",
    "                     'base_o_OS' : Orientation(0.00, 0.91, 0.91, 0.00),\n",
    "                     'base_e_OS' : Orientation(0.00, 0.33, 0.25, 0.00),\n",
    "                     'total_env' : 266.10\n",
    "                 }, 1.0, Orientation(0.763, 0.317, 0.325, 0.833), 0.034, 0.034, 0.034, Orientation(0.5, 0.5, 0.5, 0.5), 0.034, 0.034)"
   ]
  },
  {
   "cell_type": "code",
   "execution_count": 29,
   "metadata": {
    "collapsed": false
   },
   "outputs": [
    {
     "data": {
      "text/plain": [
       "Decimal('4.4')"
      ]
     },
     "execution_count": 29,
     "metadata": {},
     "output_type": "execute_result"
    }
   ],
   "source": [
    "get_simple_eta_A_C({\n",
    "                     'roof'      : 50.85,\n",
    "                     'wall'      : Orientation(30.47, 22.37, 47.92, 22.28),\n",
    "                     'door'      : Orientation(0.0, 1.89, 1.62, 0.0),\n",
    "                     'window'    : Orientation(22.69, 2.38, 3.63, 4.37),\n",
    "                     'base_o_OS' : Orientation(0.00, 0.91, 0.91, 0.00),\n",
    "                     'base_e_OS' : Orientation(0.00, 0.33, 0.25, 0.00),\n",
    "                     'total_env' : 266.10\n",
    "                 }, 1.0, Orientation(0.491, 0.427, 0.431, 0.498), 0.034, 0.034, 0.034, Orientation(0.5, 0.5, 0.5, 0.5), 0.034, 0.034)"
   ]
  },
  {
   "cell_type": "markdown",
   "metadata": {},
   "source": [
    "### 3.4-4 Area of Envelope parts and Perimeter Length of Earth Floor for Referenced House / 標準住戸における外皮の部位の面積及び土間床等の外周部の長さ等"
   ]
  },
  {
   "cell_type": "code",
   "execution_count": 30,
   "metadata": {
    "collapsed": true
   },
   "outputs": [],
   "source": [
    "def getSimpleAreaAndLength(houseType):\n",
    "    area = {\n",
    "        'floor_ins': {\n",
    "            'roof'        : 50.85,\n",
    "            'wall'        : Orientation( 30.47, 22.37, 47.92, 22.28 ),\n",
    "            'door'        : Orientation( 0.00, 1.89, 1.62, 0.00 ),\n",
    "            'window'      : Orientation( 22.69, 2.38, 3.63, 4.37 ),\n",
    "            'floor_o'     : 45.05,\n",
    "            'base_o_OS'   : Orientation(  0.00, 0.91, 0.91, 0.00 ),\n",
    "            'base_o_IS'   : 1.82,\n",
    "            'base_e_OS'   : Orientation(  0.00, 0.33, 0.25, 0.00 ),\n",
    "            'base_e_IS'   : 0.57,\n",
    "            'total_env'   : 266.10,\n",
    "            'total_floor' : 90.0\n",
    "        },\n",
    "        'base_ins': {\n",
    "            'roof'        : 50.85,\n",
    "            'wall'        : Orientation( 30.47, 22.37, 47.92, 22.28 ),\n",
    "            'door'        : Orientation( 0.00, 1.89, 1.62, 0.00 ),\n",
    "            'window'      : Orientation( 22.69, 2.38, 3.63, 4.37 ),\n",
    "            'floor_o'     : 0.0,\n",
    "            'base_o_OS'   : Orientation(  5.30, 1.48, 4.62, 2.40 ),\n",
    "            'base_o_IS'   : 0.0,\n",
    "            'base_e_OS'   : Orientation(  0.00, 0.33, 0.25, 0.00 ),\n",
    "            'base_e_IS'   : 0.00,\n",
    "            'total_env'   : 275.69,\n",
    "            'total_floor' : 90.0\n",
    "        }\n",
    "    }[houseType]\n",
    "    length = {\n",
    "        'floor_ins': {\n",
    "            'prm_o_OS' : Orientation(  0.00, 1.82, 1.82, 0.00 ),\n",
    "            'prm_o_IS' : 3.64,\n",
    "            'prm_e_OS' : Orientation(  0.00, 1.82, 1.37, 0.00 ),\n",
    "            'prm_e_IS' : 3.19\n",
    "        },\n",
    "        'base_ins': {\n",
    "            'prm_o_OS' : Orientation( 10.61, 2.97, 9.24, 4.79 ),\n",
    "            'prm_o_IS' : 0.00,\n",
    "            'prm_e_OS' : Orientation(  0.00, 1.82, 1.37, 0.00 ),\n",
    "            'prm_e_IS' : 0.00\n",
    "        }\n",
    "    }[houseType]\n",
    "    return ( area, length )"
   ]
  },
  {
   "cell_type": "markdown",
   "metadata": {},
   "source": [
    "### 3.4-5 Judgement of Applyment of Floor Insulated House or Base Insulated House for Evaluation / 床断熱住宅か基礎断熱住宅の判断"
   ]
  },
  {
   "cell_type": "markdown",
   "metadata": {},
   "source": [
    "When the house is 'floor_and_base_ins' house, decide which 'floor_ins' house or 'base_ins' house is applyed for this simple evaluation base on the UA value. The house which has the larger UA shall be applied. "
   ]
  },
  {
   "cell_type": "code",
   "execution_count": 31,
   "metadata": {
    "collapsed": true
   },
   "outputs": [],
   "source": [
    "def judge_simple_house_type(floor_ins_U_A, base_ins_U_A):\n",
    "    return (floor_ins_U_A, 'floor_ins') if floor_ins_U_A > base_ins_U_A else (base_ins_U_A, 'base_ins')"
   ]
  },
  {
   "cell_type": "markdown",
   "metadata": {},
   "source": [
    "#### Example"
   ]
  },
  {
   "cell_type": "markdown",
   "metadata": {},
   "source": [
    "The case that UA of the floor insulated house is larger."
   ]
  },
  {
   "cell_type": "code",
   "execution_count": 32,
   "metadata": {
    "collapsed": false
   },
   "outputs": [
    {
     "data": {
      "text/plain": [
       "(2.2, 'floor_ins')"
      ]
     },
     "execution_count": 32,
     "metadata": {},
     "output_type": "execute_result"
    }
   ],
   "source": [
    "judge_simple_house_type(2.2, 1.1)"
   ]
  },
  {
   "cell_type": "markdown",
   "metadata": {},
   "source": [
    "The case that UA of the base insulated house is larger."
   ]
  },
  {
   "cell_type": "code",
   "execution_count": 33,
   "metadata": {
    "collapsed": false
   },
   "outputs": [
    {
     "data": {
      "text/plain": [
       "(2.2, 'base_ins')"
      ]
     },
     "execution_count": 33,
     "metadata": {},
     "output_type": "execute_result"
    }
   ],
   "source": [
    "judge_simple_house_type(1.1, 2.2)"
   ]
  },
  {
   "cell_type": "markdown",
   "metadata": {},
   "source": [
    "### 3.4-6 Temperature Difference Coefficient / 外皮の部位及び土間床等の周辺部の温度差係数"
   ]
  },
  {
   "cell_type": "markdown",
   "metadata": {},
   "source": [
    "| part | H |\n",
    "| --- | --- |\n",
    "| roof | 1.0 |\n",
    "| wall | 1.0 |\n",
    "| door | 1.0 |\n",
    "| window | 1.0 |\n",
    "| floor | 1.0 |\n",
    "| basement to Outdoor Side | 1.0 |\n",
    "| basement to Internal Side | 1.0 |\n",
    "| perimeter to Outdoor Side | 1.0 |\n",
    "| perimeter to Internal Side | 1.0 |\n"
   ]
  },
  {
   "cell_type": "code",
   "execution_count": 34,
   "metadata": {
    "collapsed": true
   },
   "outputs": [],
   "source": [
    "def getSimpleHValue():\n",
    "    return {\n",
    "        'roof'    : 1.0,\n",
    "        'wall'    : 1.0,\n",
    "        'door'    : 1.0,\n",
    "        'window'  : 1.0,\n",
    "        'floor'   : 0.7,\n",
    "        'base_OS' : 1.0,\n",
    "        'base_IS' : 0.7,\n",
    "        'prm_OS'  : 1.0,\n",
    "        'prm_IS'  : 0.7\n",
    "    }"
   ]
  },
  {
   "cell_type": "markdown",
   "metadata": {},
   "source": [
    "### 外皮の部位の熱貫流率"
   ]
  },
  {
   "cell_type": "markdown",
   "metadata": {},
   "source": [
    "#### 定義"
   ]
  },
  {
   "cell_type": "markdown",
   "metadata": {},
   "source": [
    "屋根又は天井の熱貫流率($U_{roof}$)は、「9.8.1 屋根又は天井の熱貫流率」に基づく。  \n",
    "壁の熱貫流率($U_{wall}$)は、「9.8.2 壁の熱貫流率」に基づく。  \n",
    "ドアの熱貫流率($U_{door}$)は、「9.8.3 ドアの熱貫流率」に基づく。  \n",
    "窓の熱貫流率($U_{wnd}$)は、「9.8.4 窓の熱貫流率」に基づく。  \n",
    "床の熱貫流率($U_{floor}$)は、「9.8.5 床の熱貫流率」に基づく。  \n",
    "玄関等を除く基礎の熱貫流率($U_{base}$)は、「9.8.6 玄関等を除く基礎の熱貫流率」に基づく。  \n",
    "玄関等の基礎の熱貫流率($U_{base,d}$)は、「9.8.7 玄関等の基礎の熱貫流率」に基づく。  \n",
    "なお、窓の熱貫流率の2%ルール(床面積の2%に満たない面積の部位は除外できる。)や浴室下部の除外ルール(断熱措置がある場合)等のルールは実装しない。"
   ]
  },
  {
   "cell_type": "code",
   "execution_count": 35,
   "metadata": {
    "collapsed": false
   },
   "outputs": [],
   "source": [
    "def get_simple_U_part(parts):\n",
    "    # parts: 外皮の部位 [ part の配列 ]\n",
    "    #        part: 外皮の部位 ( U値(W/m2K), H値 )\n",
    "    return max ( parts, key = ( lambda part: part[0] * part[1] ) )\n",
    "\n",
    "get_simple_U_roof   = get_simple_U_part\n",
    "get_simple_U_wall   = get_simple_U_part\n",
    "get_simple_U_door   = get_simple_U_part\n",
    "get_simple_U_wnd    = get_simple_U_part\n",
    "get_simple_U_floor  = get_simple_U_part\n",
    "get_simple_U_base   = get_simple_U_part\n",
    "get_simple_U_base_d = get_simple_U_part"
   ]
  },
  {
   "cell_type": "markdown",
   "metadata": {},
   "source": [
    "#### 説明"
   ]
  },
  {
   "cell_type": "markdown",
   "metadata": {},
   "source": [
    "計算例。U値が大きい方が選択される例。"
   ]
  },
  {
   "cell_type": "code",
   "execution_count": 36,
   "metadata": {
    "collapsed": false
   },
   "outputs": [
    {
     "data": {
      "text/plain": [
       "(2.0, 1.0)"
      ]
     },
     "execution_count": 36,
     "metadata": {},
     "output_type": "execute_result"
    }
   ],
   "source": [
    "get_simple_U_part([ (1.5,1.0), (2.0,1.0)] )"
   ]
  },
  {
   "cell_type": "markdown",
   "metadata": {},
   "source": [
    "計算例。H値の違いによりU値が小さい方が選択される例。"
   ]
  },
  {
   "cell_type": "code",
   "execution_count": 37,
   "metadata": {
    "collapsed": false,
    "slideshow": {
     "slide_type": "-"
    }
   },
   "outputs": [
    {
     "data": {
      "text/plain": [
       "(1.5, 1.0)"
      ]
     },
     "execution_count": 37,
     "metadata": {},
     "output_type": "execute_result"
    }
   ],
   "source": [
    "get_simple_U_part([ (1.5,1.0), (2.0,0.7)] )"
   ]
  },
  {
   "cell_type": "markdown",
   "metadata": {},
   "source": [
    "### 土間床等の周辺部の熱貫流率"
   ]
  },
  {
   "cell_type": "markdown",
   "metadata": {},
   "source": [
    "#### 定義"
   ]
  },
  {
   "cell_type": "markdown",
   "metadata": {},
   "source": [
    "玄関等を除く土間床等の外周部の線熱貫流率($\\psi_{prm}$)は、「9.2.8 玄関等を除く土間床等の外周部の線熱貫流率」に基づく。  \n",
    "玄関等の土間床等の外周部の線熱貫流率($\\psi_{prm,d}$)は、「9.2.9 玄関等の土間床等の外周部の線熱貫流率」に基づく。  "
   ]
  },
  {
   "cell_type": "code",
   "execution_count": 38,
   "metadata": {
    "collapsed": true
   },
   "outputs": [],
   "source": [
    "def get_simple_psi_part(parts):\n",
    "    # parts: 土間床等の外周部 [ part の配列 ]\n",
    "    #        part: 土間床等の外周部 ( psi値(W/mK), H値)\n",
    "    return max ( parts, key = ( lambda part: part[0] * part[1] ) )\n",
    "\n",
    "get_simple_psi_prm   = get_simple_psi_part\n",
    "get_simple_psi_prm_d = get_simple_psi_part"
   ]
  },
  {
   "cell_type": "markdown",
   "metadata": {},
   "source": [
    "#### 説明"
   ]
  },
  {
   "cell_type": "markdown",
   "metadata": {},
   "source": [
    "計算例。U値が大きい方が選択される例。"
   ]
  },
  {
   "cell_type": "code",
   "execution_count": 39,
   "metadata": {
    "collapsed": false
   },
   "outputs": [
    {
     "data": {
      "text/plain": [
       "(2.0, 1.0)"
      ]
     },
     "execution_count": 39,
     "metadata": {},
     "output_type": "execute_result"
    }
   ],
   "source": [
    "get_simple_psi_part( [ (1.5,1.0), (2.0,1.0) ] )"
   ]
  },
  {
   "cell_type": "markdown",
   "metadata": {},
   "source": [
    "計算例。H値の違いによりU値が小さい方が選択される例。"
   ]
  },
  {
   "cell_type": "code",
   "execution_count": 40,
   "metadata": {
    "collapsed": false
   },
   "outputs": [
    {
     "data": {
      "text/plain": [
       "(1.5, 1.0)"
      ]
     },
     "execution_count": 40,
     "metadata": {},
     "output_type": "execute_result"
    }
   ],
   "source": [
    "get_simple_psi_part( [ (1.5,1.0), (2.0,0.7) ] )"
   ]
  },
  {
   "cell_type": "markdown",
   "metadata": {},
   "source": [
    "### 外皮の部位(窓を除く)の日射熱取得率"
   ]
  },
  {
   "cell_type": "markdown",
   "metadata": {},
   "source": [
    "#### 定義"
   ]
  },
  {
   "cell_type": "markdown",
   "metadata": {},
   "source": [
    "屋根又は天井の日射熱取得率($\\eta_{H,roof}$・$\\eta_{C,roof}$)は、屋根又は天井の熱貫流率$U_{roof}$を用いて、「9.9.1 屋根又は天井の日射熱取得率」に基づく方法で計算される。  \n",
    "壁の日射熱取得率($\\eta_{H,wall}$・$\\eta_{C,wall}$)は、壁の熱貫流率$U_{wall}$を用いて、「9.9.2 壁の日射熱取得率」に基づく方法で計算される。  \n",
    "ドアの日射熱取得率($\\eta_{H,door}$・$\\eta_{C,door}$)は、ドアの熱貫流率$U_{door}$を用いて、「9.9.3 ドアの日射熱取得率」に基づく方法で計算される。  \n",
    "玄関等を除く基礎の日射熱取得率($\\eta_{H,base}$・$\\eta_{C,base}$)は、玄関等を除く基礎の熱貫流率$U_{base}$を用いて、「9.9.5 玄関等を除く基礎の日射熱取得率」に基づく方法で計算される。  \n",
    "玄関等の基礎の日射熱取得率($\\eta_{H,base,d}$・$\\eta_{C,base,d}$)は、玄関等の基礎の熱貫流率$U_{base,d}$を用いて、「9.9.6 玄関等の基礎の日射熱取得率」に基づく方法で計算される。  "
   ]
  },
  {
   "cell_type": "code",
   "execution_count": 41,
   "metadata": {
    "collapsed": false
   },
   "outputs": [],
   "source": [
    "def get_simple_eta_H_not_wnd(U_part):\n",
    "    # U_part: 外皮の部位(窓を除く)の熱貫流率(W/m2K)\n",
    "    gamma_H = 1.0 # 暖房期の日除けの効果係数\n",
    "    return 0.034 * U_part * gamma_H\n",
    "\n",
    "get_simple_eta_H_roof   = get_simple_eta_H_not_wnd\n",
    "get_simple_eta_H_wall   = get_simple_eta_H_not_wnd\n",
    "get_simple_eta_H_door   = get_simple_eta_H_not_wnd\n",
    "get_simple_eta_H_base   = get_simple_eta_H_not_wnd\n",
    "get_simple_eta_H_base_d = get_simple_eta_H_not_wnd"
   ]
  },
  {
   "cell_type": "code",
   "execution_count": 42,
   "metadata": {
    "collapsed": false
   },
   "outputs": [],
   "source": [
    "def get_simple_eta_C_not_wnd(U_part):\n",
    "    # U_part: 外皮の部位(窓を除く)の熱貫流率(W/m2K)\n",
    "    gamma_C = 1.0 # 冷房期の日除けの効果係数\n",
    "    return 0.034 * U_part * gamma_C\n",
    "\n",
    "get_simple_eta_C_roof   = get_simple_eta_C_not_wnd\n",
    "get_simple_eta_C_wall   = get_simple_eta_C_not_wnd\n",
    "get_simple_eta_C_door   = get_simple_eta_C_not_wnd\n",
    "get_simple_eta_C_base   = get_simple_eta_C_not_wnd\n",
    "get_simple_eta_C_base_d = get_simple_eta_C_not_wnd"
   ]
  },
  {
   "cell_type": "markdown",
   "metadata": {},
   "source": [
    "#### 説明"
   ]
  },
  {
   "cell_type": "markdown",
   "metadata": {},
   "source": [
    "計算例。U値=1.0の場合。"
   ]
  },
  {
   "cell_type": "code",
   "execution_count": 43,
   "metadata": {
    "collapsed": false
   },
   "outputs": [
    {
     "data": {
      "text/plain": [
       "0.034"
      ]
     },
     "execution_count": 43,
     "metadata": {},
     "output_type": "execute_result"
    }
   ],
   "source": [
    "get_simple_eta_H_not_wnd(1.0)"
   ]
  },
  {
   "cell_type": "code",
   "execution_count": 44,
   "metadata": {
    "collapsed": false
   },
   "outputs": [
    {
     "data": {
      "text/plain": [
       "0.034"
      ]
     },
     "execution_count": 44,
     "metadata": {},
     "output_type": "execute_result"
    }
   ],
   "source": [
    "get_simple_eta_C_not_wnd(1.0)"
   ]
  },
  {
   "cell_type": "markdown",
   "metadata": {},
   "source": [
    "### 窓の日射熱取得率"
   ]
  },
  {
   "cell_type": "markdown",
   "metadata": {},
   "source": [
    "#### 定義"
   ]
  },
  {
   "cell_type": "markdown",
   "metadata": {},
   "source": [
    "窓の日射熱取得率($\\eta_{H,wnd,0}$・$\\eta_{H,wnd,90}$・$\\eta_{H,wnd,180}$・$\\eta_{H,wnd,270}$・$\\eta_{C,wnd,0}$・$\\eta_{C,wnd,90}$・$\\eta_{C,wnd,180}$・$\\eta_{C,wnd,270}$)は、「9.9.4 窓の日射熱取得率」に基づく方法で計算される。"
   ]
  },
  {
   "cell_type": "markdown",
   "metadata": {},
   "source": [
    "窓の$\\eta_d$値として、安全側、つまり複数の窓の中で暖房期は最も小さい値、冷房期は最も大きい値を代表値とする。"
   ]
  },
  {
   "cell_type": "code",
   "execution_count": 45,
   "metadata": {
    "collapsed": true
   },
   "outputs": [],
   "source": [
    "def get_simple_eta_d_H_window(eta_d_H_windows):\n",
    "    # eta_d_H_windows: eta_d_H_window の配列\n",
    "    #                  eta_d_H_window: 窓のηd値(-)\n",
    "    return min( eta_d_H_windows )"
   ]
  },
  {
   "cell_type": "code",
   "execution_count": 46,
   "metadata": {
    "collapsed": false
   },
   "outputs": [],
   "source": [
    "def get_simple_eta_d_C_window(eta_d_C_windows):\n",
    "    # eta_d_C_windows: eta_d_C_window の配列\n",
    "    #                  eta_d_C_window: 窓のηd値(-)\n",
    "    return max( eta_d_C_windows )"
   ]
  },
  {
   "cell_type": "markdown",
   "metadata": {},
   "source": [
    "窓のf値として、安全側、つまり複数の窓の中で暖房期は最も小さい値、冷房期は最も大きい値を代表値とする。"
   ]
  },
  {
   "cell_type": "code",
   "execution_count": 47,
   "metadata": {
    "collapsed": true
   },
   "outputs": [],
   "source": [
    "def get_simple_f_H_value(f_H_values):\n",
    "    # f_H_values: f_H_value の配列\n",
    "    #             f_H_value: 暖房期の窓の日射熱取得補正係数(-) デフォルト値を持つ場合は必ずしも指定しなくても良い\n",
    "    return min(f_H_values)"
   ]
  },
  {
   "cell_type": "code",
   "execution_count": 48,
   "metadata": {
    "collapsed": true
   },
   "outputs": [],
   "source": [
    "def get_simple_f_C_value(f_C_values):\n",
    "    # f_C_values: f_C_value の配列\n",
    "    #             f_C_value: 冷房期の窓の日射熱取得補正係数(-) デフォルト値を持つ場合は必ずしも指定しなくても良い\n",
    "    return max(f_C_values)"
   ]
  },
  {
   "cell_type": "markdown",
   "metadata": {},
   "source": [
    "窓のf値として、各窓の最も安全側の値を使用するか、デフォルト値を使用するか、選択可能である。"
   ]
  },
  {
   "cell_type": "code",
   "execution_count": 49,
   "metadata": {
    "collapsed": false
   },
   "outputs": [],
   "source": [
    "def get_simple_eta_H_window(eta_d_H, f_H, is_f_value_default, default_f_H):\n",
    "    # eta_d_H: 窓の日射熱取得率(-)\n",
    "    # is_f_value_default: f値にデフォルト値を使用するかどうか\n",
    "    # default_f_H_value: f値にデフォルト値を使用する場合の値 [Orientation型]\n",
    "    if( is_f_value_default == True ):\n",
    "        return Orientation(eta_d_H * default_f_H.D0, eta_d_H * default_f_H.D90, eta_d_H * default_f_H.D180, eta_d_H * default_f_H.D270)\n",
    "    else:\n",
    "        return Orientation(eta_d_H * f_H, eta_d_H * f_H, eta_d_H * f_H, eta_d_H * f_H)"
   ]
  },
  {
   "cell_type": "code",
   "execution_count": 50,
   "metadata": {
    "collapsed": true
   },
   "outputs": [],
   "source": [
    "def get_simple_eta_C_window(eta_d_C, f_C, is_f_value_default, default_f_C):\n",
    "    # eta_d_C: 窓の日射熱取得率(-)\n",
    "    # is_f_value_default: f値にデフォルト値を使用するかどうか\n",
    "    # default_f_C_value: f値にデフォルト値を使用する場合の値 [Orientation型]\n",
    "    if( is_f_value_default == True ):\n",
    "        return Orientation(eta_d_C * default_f_C.D0, eta_d_C * default_f_C.D90, eta_d_C * default_f_C.D180, eta_d_C * default_f_C.D270)\n",
    "    else:\n",
    "        return Orientation(eta_d_C * f_C, eta_d_C * f_C, eta_d_C * f_C, eta_d_C * f_C)"
   ]
  },
  {
   "cell_type": "markdown",
   "metadata": {},
   "source": [
    "#### 説明"
   ]
  },
  {
   "cell_type": "markdown",
   "metadata": {},
   "source": [
    "f値にデフォルト値を使用する場合。"
   ]
  },
  {
   "cell_type": "code",
   "execution_count": 51,
   "metadata": {
    "collapsed": false
   },
   "outputs": [
    {
     "data": {
      "text/plain": [
       "Orientation(D0=0.2, D90=0.15, D180=0.2, D270=0.15)"
      ]
     },
     "execution_count": 51,
     "metadata": {},
     "output_type": "execute_result"
    }
   ],
   "source": [
    "windows = [(0.5,0.7),(0.6,1.0)]\n",
    "default_f = Orientation(0.4, 0.3, 0.4, 0.3)\n",
    "get_simple_eta_H_window(get_simple_eta_d_H_window([window[0] for window in windows]),\n",
    "                        get_simple_f_H_value([window[1] for window in windows]),\n",
    "                        True, default_f)"
   ]
  },
  {
   "cell_type": "code",
   "execution_count": 52,
   "metadata": {
    "collapsed": false
   },
   "outputs": [
    {
     "data": {
      "text/plain": [
       "Orientation(D0=0.24, D90=0.18, D180=0.24, D270=0.18)"
      ]
     },
     "execution_count": 52,
     "metadata": {},
     "output_type": "execute_result"
    }
   ],
   "source": [
    "windows = [(0.5,0.7),(0.6,1.0)]\n",
    "default_f = Orientation(0.4, 0.3, 0.4, 0.3)\n",
    "get_simple_eta_C_window(get_simple_eta_d_C_window([window[0] for window in windows]),\n",
    "                        get_simple_f_C_value([window[1] for window in windows]),\n",
    "                        True, default_f)"
   ]
  },
  {
   "cell_type": "markdown",
   "metadata": {},
   "source": [
    "f値にデフォルト値を使用しない場合。"
   ]
  },
  {
   "cell_type": "code",
   "execution_count": 53,
   "metadata": {
    "collapsed": false
   },
   "outputs": [
    {
     "data": {
      "text/plain": [
       "Orientation(D0=0.35, D90=0.35, D180=0.35, D270=0.35)"
      ]
     },
     "execution_count": 53,
     "metadata": {},
     "output_type": "execute_result"
    }
   ],
   "source": [
    "windows = [(0.5,0.7),(0.6,1.0)]\n",
    "default_f = Orientation(0.4, 0.3, 0.4, 0.3)\n",
    "get_simple_eta_H_window(get_simple_eta_d_H_window([window[0] for window in windows]),\n",
    "                        get_simple_f_H_value([window[1] for window in windows]),\n",
    "                        False, default_f)"
   ]
  },
  {
   "cell_type": "code",
   "execution_count": 54,
   "metadata": {
    "collapsed": false
   },
   "outputs": [
    {
     "data": {
      "text/plain": [
       "Orientation(D0=0.6, D90=0.6, D180=0.6, D270=0.6)"
      ]
     },
     "execution_count": 54,
     "metadata": {},
     "output_type": "execute_result"
    }
   ],
   "source": [
    "windows = [(0.5,0.7),(0.6,1.0)]\n",
    "default_f = Orientation(0.4, 0.3, 0.4, 0.3)\n",
    "get_simple_eta_C_window(get_simple_eta_d_C_window([window[0] for window in windows]),\n",
    "                        get_simple_f_C_value([window[1] for window in windows]),\n",
    "                        False, default_f)"
   ]
  },
  {
   "cell_type": "markdown",
   "metadata": {},
   "source": [
    "## 3-4) 係数等"
   ]
  },
  {
   "cell_type": "markdown",
   "metadata": {},
   "source": [
    "### 3.3-5 Temperature Difference Coefficient / 温度差係数"
   ]
  },
  {
   "cell_type": "code",
   "execution_count": 55,
   "metadata": {
    "collapsed": false
   },
   "outputs": [],
   "source": [
    "def get_H(ASType, region):\n",
    "    # ASType: 'External', 'SemiExternal' and 'Internal' as string\n",
    "    # region: region1, region2,... region3 as string\n",
    "    return {\n",
    "        'External'     : 1.0,\n",
    "        'SemiExternal' : 0.7,\n",
    "        'Internal'     : {\n",
    "            'region1' : 0.05, \n",
    "            'region2' : 0.05,\n",
    "            'region3' : 0.05, \n",
    "            'region4' : 0.15,\n",
    "            'region5' : 0.15,\n",
    "            'region6' : 0.15,\n",
    "            'region7' : 0.15,\n",
    "            'region8' : 0.15 }[region]\n",
    "    }[ASType]"
   ]
  },
  {
   "cell_type": "markdown",
   "metadata": {},
   "source": [
    "#### Example"
   ]
  },
  {
   "cell_type": "code",
   "execution_count": 56,
   "metadata": {
    "collapsed": false
   },
   "outputs": [
    {
     "data": {
      "text/plain": [
       "0.15"
      ]
     },
     "execution_count": 56,
     "metadata": {},
     "output_type": "execute_result"
    }
   ],
   "source": [
    "get_H('Internal', 'region5' )"
   ]
  },
  {
   "cell_type": "code",
   "execution_count": 57,
   "metadata": {
    "collapsed": false
   },
   "outputs": [
    {
     "data": {
      "text/plain": [
       "0.05"
      ]
     },
     "execution_count": 57,
     "metadata": {},
     "output_type": "execute_result"
    }
   ],
   "source": [
    "get_H('Internal', 'region3' )"
   ]
  },
  {
   "cell_type": "markdown",
   "metadata": {},
   "source": [
    "### 方位係数"
   ]
  },
  {
   "cell_type": "markdown",
   "metadata": {},
   "source": [
    "#### Example"
   ]
  },
  {
   "cell_type": "code",
   "execution_count": 58,
   "metadata": {
    "collapsed": false
   },
   "outputs": [
    {
     "data": {
      "text/plain": [
       "0.564"
      ]
     },
     "execution_count": 58,
     "metadata": {},
     "output_type": "execute_result"
    }
   ],
   "source": [
    "DC_get_nu_H('region1')['E']"
   ]
  },
  {
   "cell_type": "code",
   "execution_count": 59,
   "metadata": {
    "collapsed": false
   },
   "outputs": [
    {
     "data": {
      "text/plain": [
       "0.545"
      ]
     },
     "execution_count": 59,
     "metadata": {},
     "output_type": "execute_result"
    }
   ],
   "source": [
    "DC_get_nu_C('region1')['E']"
   ]
  },
  {
   "cell_type": "markdown",
   "metadata": {},
   "source": [
    "# II 外皮性能の計算方法 (統合)"
   ]
  },
  {
   "cell_type": "markdown",
   "metadata": {},
   "source": [
    "## 1-1) 外皮の部位"
   ]
  },
  {
   "cell_type": "markdown",
   "metadata": {},
   "source": [
    "外皮の部位は、外壁(界壁)・天井・屋根・床(界床)から成る一般部位と、開口部（窓・ドア）、土間床で構成される。また、熱の計算においては、外皮の部位を面的に流れる熱流に加え、RC造やS造の隅角部等における熱橋計算および土間床外周部の熱計算を行う必要がある。  \n",
    "* 熱損失が面積あたりで定義される部位：「一般部位」「開口部(窓)」「開口部(ドア)」  \n",
    "* 熱損失が長さあたりで定義される部位：「熱橋」「土間床外周部」"
   ]
  },
  {
   "cell_type": "markdown",
   "metadata": {},
   "source": [
    "## 1-2) 外皮の部位(詳細法)"
   ]
  },
  {
   "cell_type": "markdown",
   "metadata": {},
   "source": [
    "### 一般部位・開口部(窓)・開口部(ドア)"
   ]
  },
  {
   "cell_type": "markdown",
   "metadata": {},
   "source": [
    "一般部位・開口部(窓)・開口部(ドア)は、面積・熱損失係数(U値)・暖房期の日射熱取得率・冷房期の日射熱取得率・方位・隣接空間の種類をもつ。"
   ]
  },
  {
   "cell_type": "code",
   "execution_count": 60,
   "metadata": {
    "collapsed": true
   },
   "outputs": [],
   "source": [
    "EnvGeneral = namedtuple(\"EnvGeneral\", \"A U eta_H eta_C direction ASType\")\n",
    "EnvWindow  = namedtuple(\"EnvWindow\",  \"A U eta_H eta_C direction ASType\")\n",
    "EnvDoor    = namedtuple(\"EnvDoor\",    \"A U eta_H eta_C direction ASType\")\n",
    "# A: 面積(m2)\n",
    "# U: 熱損失係数(W/m2K)\n",
    "# eta_H: 暖房期の日射熱取得率(-)\n",
    "# eta_C: 冷房期の日射熱取得率(-)\n",
    "# direction: 方位 [direction列挙型]\n",
    "# ASType: 隣接空間の種類 [AdjacentSpaceType型]"
   ]
  },
  {
   "cell_type": "markdown",
   "metadata": {},
   "source": [
    "### 熱橋"
   ]
  },
  {
   "cell_type": "markdown",
   "metadata": {},
   "source": [
    "熱橋は、長さ・線熱損失係数・暖房期の日射熱取得率・冷房期の日射熱取得率・方位1と方位2・隣接空間の種類をもつ。熱橋は多くの場合、隅角部等に発生し、2方位に面する場合が多いため、方位1と方位2を持つことにする。方位1と方位2に順番は無い。また、T型熱橋など、接続する部位が同じ方位を持つ場合は、方位1と方位2に同じ方位を入力すること。  \n",
    "ただし、熱橋の日射熱取得率は、本来であれば、  \n",
    "$\\begin{align} \\eta = \\gamma \\times 0.034 \\times \\frac{ L \\times \\psi }{ A } \\end{align}$  \n",
    "で表されるのに対し、  \n",
    "$\\begin{align} \\eta' = \\gamma \\times 0.034 \\times \\psi \\end{align} $  \n",
    "で表されることとする。  \n",
    "ここで、  \n",
    "$\\eta$: 日射熱取得率(-)  \n",
    "$\\eta'$: 熱橋の日射熱取得率(m)  \n",
    "従って、$ m $ 値(m<sup>2</sup>)の計算において、仕様書によると、  \n",
    "$\\begin{align} m = A \\times \\eta \\times \\nu \\end{align} $  \n",
    "ではなく、  \n",
    "$\\begin{align} m = L \\times \\eta' \\times \\nu \\end{align} $  \n",
    "で計算される。"
   ]
  },
  {
   "cell_type": "code",
   "execution_count": 61,
   "metadata": {
    "collapsed": true
   },
   "outputs": [],
   "source": [
    "EnvHB = namedtuple(\"EnvHB\", \"L psi eta_H_dash eta_C_dash direction1 direction2 ASType\")\n",
    "# L: 長さ(m)\n",
    "# psi: 線熱損失係数(W/mK)\n",
    "# eta_H: 暖房期の熱橋の日射熱取得率(m)\n",
    "# eta_C: 冷房期の熱橋の日射熱取得率(m)\n",
    "# direction1: 方位1 [direction列挙型]\n",
    "# direction2: 方位2 [direction列挙型]\n",
    "# ASType: 隣接空間の種類 [AdjacentSpaceType型]"
   ]
  },
  {
   "cell_type": "markdown",
   "metadata": {},
   "source": [
    "### 土間床外周部"
   ]
  },
  {
   "cell_type": "markdown",
   "metadata": {},
   "source": [
    "土間床外周部は、長さ・線熱損失係数・隣接空間の種類をもつ。日射に関する熱の移動はない。従って、方位の概念も持たない。"
   ]
  },
  {
   "cell_type": "code",
   "execution_count": 62,
   "metadata": {
    "collapsed": true
   },
   "outputs": [],
   "source": [
    "EnvEFPeri = namedtuple(\"EnvEFPeri\", \"L psi ASType\")\n",
    "# L: 長さ(m)\n",
    "# psi: 線熱損失係数(W/mK)\n",
    "# ASType: 隣接空間の種類 [AdjacentSpaceType型]"
   ]
  },
  {
   "cell_type": "markdown",
   "metadata": {},
   "source": [
    "## 1-3) 外皮の部位(簡易法)"
   ]
  },
  {
   "cell_type": "markdown",
   "metadata": {},
   "source": [
    "### 一般部位・開口部(ドア)"
   ]
  },
  {
   "cell_type": "markdown",
   "metadata": {},
   "source": [
    "外皮の部位の簡易法版。詳細法版と異なり、面積・方位をもたない。"
   ]
  },
  {
   "cell_type": "code",
   "execution_count": 63,
   "metadata": {
    "collapsed": true
   },
   "outputs": [],
   "source": [
    "SimpleEnvGeneral = namedtuple(\"SimpleEnvGeneral\", \"U eta_H eta_C ASType\")\n",
    "SimpleEnvDoor    = namedtuple(\"SimpleEnvDoor\",    \"U eta_H eta_C ASType\")\n",
    "# U: 熱損失係数(W/m2K)\n",
    "# eta_H: 暖房期の日射熱取得率(-)\n",
    "# eta_C: 冷房期の日射熱取得率(-)\n",
    "# ASType: 隣接空間の種類 [AdjacentSpaceType型]"
   ]
  },
  {
   "cell_type": "markdown",
   "metadata": {},
   "source": [
    "### 開口部(窓)"
   ]
  },
  {
   "cell_type": "markdown",
   "metadata": {},
   "source": [
    "外皮の部位(窓)の簡易法版。簡易法に限り、窓の$U$値、$\\eta_H$値、$\\eta_C$値、方位、隣接空間の種類に加えて、$\\eta_d$値、$f_H$値、$f_C$値が必要である。簡易法の場合、最も不利側の$\\eta_d$値、$f$値を計算する必要があるため。ただし、$f$値に関しては、デフォルト値を適用する場合、入力する必要はない。"
   ]
  },
  {
   "cell_type": "code",
   "execution_count": 64,
   "metadata": {
    "collapsed": true
   },
   "outputs": [],
   "source": [
    "SimpleEnvWindow = namedtuple(\"SimpleEnvWindow\", \"U eta_H eta_C ASType eta_d f_H f_C\")\n",
    "# U: 熱損失係数(W/m2K)\n",
    "# eta_H: 暖房期の日射熱取得率(-)\n",
    "# eta_C: 冷房期の日射熱取得率(-)\n",
    "# ASType: 隣接空間の種類 [AdjacentSpaceType型]\n",
    "# eta_d: 垂直面日射熱取得率(-)\n",
    "# f_H: 暖房期の取得日射熱補正係数(-)\n",
    "# f_C: 冷房期の取得日射熱補正係数(-)"
   ]
  },
  {
   "cell_type": "markdown",
   "metadata": {},
   "source": [
    "### 熱橋"
   ]
  },
  {
   "cell_type": "markdown",
   "metadata": {},
   "source": [
    "熱橋の簡易法版はない。現時点で、簡易法は木造戸建て住宅のみ認められている。木造戸建て住宅は熱橋計算が不要なため、簡易法では熱橋を持つ必要はない。"
   ]
  },
  {
   "cell_type": "markdown",
   "metadata": {},
   "source": [
    "### 土間床外周部"
   ]
  },
  {
   "cell_type": "markdown",
   "metadata": {},
   "source": [
    "土間床外周部の簡易法版。詳細法版と違い、長さをもたない。"
   ]
  },
  {
   "cell_type": "code",
   "execution_count": 65,
   "metadata": {
    "collapsed": true
   },
   "outputs": [],
   "source": [
    "SimpleEnvEFPeri = namedtuple(\"SimpleEnvEFPeri\", \"psi ASType\")\n",
    "# psi: 線熱損失係数(W/mK)\n",
    "# ASType: 隣接空間の種類 [AdjacentSpaceType型]"
   ]
  },
  {
   "cell_type": "markdown",
   "metadata": {},
   "source": [
    "## 2) 関数の統合"
   ]
  },
  {
   "cell_type": "markdown",
   "metadata": {},
   "source": [
    "### 詳細法"
   ]
  },
  {
   "cell_type": "markdown",
   "metadata": {},
   "source": [
    "#### 定義"
   ]
  },
  {
   "cell_type": "code",
   "execution_count": 66,
   "metadata": {
    "collapsed": false
   },
   "outputs": [],
   "source": [
    "def getEnvPerformance(env_generals, env_windows, env_doors, env_HBs, env_EF_Peris, A_EF, A_A, region):\n",
    "\n",
    "    results = OrderedDict()\n",
    "    \n",
    "    ##### 面積関係の計算 #####\n",
    "    \n",
    "    # 外皮の表面積の合計(m2)\n",
    "    a_env = get_A_env(  [ env_general.A for env_general in env_generals ]\n",
    "                      + [ env_window.A  for env_window  in env_windows  ]\n",
    "                      + [ env_door.A    for env_door    in env_doors    ], A_EF )\n",
    "    results[\"外皮の面積の合計\"] = a_env\n",
    "    \n",
    "    # 床面積の合計に対する外皮の部位の比\n",
    "    r_env = get_r_env( a_env, A_A )\n",
    "    results[\"床面積の合計に対する外皮の部位の比\"] = r_env\n",
    "    \n",
    "    ##### UA値、Q'値の計算 #####\n",
    "\n",
    "    # ( 面積, U値, 温度差係数 ) の配列を作成\n",
    "    # 温度差係数は、隣接空間の種類と地域の区分から決定\n",
    "    U_generals = [ EnvelopePartU( A = env_general.A, U = env_general.U, H = get_H(env_general.ASType, region) ) for env_general in env_generals ]\n",
    "    U_windows  = [ EnvelopePartU( A = env_window.A,  U = env_window.U,  H = get_H(env_window.ASType, region)  ) for env_window  in env_windows  ]\n",
    "    U_doors    = [ EnvelopePartU( A = env_door.A,    U = env_door.U,    H = get_H(env_door.ASType, region)    ) for env_door    in env_doors    ]\n",
    "    results[\"U_generals\"] = U_generals\n",
    "    results[\"U_windows\"] = U_windows\n",
    "    results[\"U_doors\"] = U_doors\n",
    "    \n",
    "    # ( 長さ, psi値, 温度差係数 ) の配列を作成\n",
    "    # 温度差係数は、隣接空間の種類と地域の区分から決定\n",
    "    psi_HBs = [ HeatBridgeU( L = env_HB.L, psi = env_HB.psi, H = get_H(env_HB.ASType, region) ) for env_HB in env_HBs ]\n",
    "    results[\"psi_HBs\"] = psi_HBs\n",
    "    \n",
    "    # ( 長さ, psi値, 温度差係数 ) の配列を作成\n",
    "    # 温度差係数は、隣接空間の種類と地域の区分から決定\n",
    "    psi_EF_Peris = [ HeatBridgeU( L = env_EF_Peri.L, psi = env_EF_Peri.psi, H = get_H(env_EF_Peri.ASType, region) ) for env_EF_Peri in env_EF_Peris ]\n",
    "    results[\"psi_EF_Peris\"] = psi_EF_Peris\n",
    "\n",
    "    # UA値(W/m2K)\n",
    "    UA = get_UA( U_generals + U_windows + U_doors , psi_HBs + psi_EF_Peris , a_env )\n",
    "    results[\"UA値\"] = UA\n",
    "    \n",
    "    # 熱損失係数(換気による熱損失を含まない) \n",
    "    Q_dash = get_Q_dash( float(UA), r_env )\n",
    "    results[\"熱損失係数(換気による熱損失を含まない) \"] = Q_dash\n",
    "    \n",
    "    ##### ηA値、m値の計算 (暖房期) #####\n",
    "\n",
    "    # ( 面積, 日射熱取得率, 方位係数 ) の配列を作成\n",
    "    eta_H_generals = [ EnvelopePartEta(A = env_general.A, eta = env_general.eta_H, nu = DC_get_nu_H(region)[env_general.direction] ) for env_general in env_generals ]\n",
    "    eta_H_windows  = [ EnvelopePartEta(A = env_window.A,  eta = env_window.eta_H,  nu = DC_get_nu_H(region)[env_window.direction ] ) for env_window  in env_windows  ]\n",
    "    eta_H_doors    = [ EnvelopePartEta(A = env_door.A,    eta = env_door.eta_H,    nu = DC_get_nu_H(region)[env_door.direction   ] ) for env_door    in env_doors    ]\n",
    "    results[\"eta_H_generals\"] = eta_H_generals\n",
    "    results[\"eta_H_windows\"] = eta_H_windows\n",
    "    results[\"eta_H_doors\"] = eta_H_doors\n",
    "\n",
    "    # ( 面積, 熱橋の日射熱取得率, 方位係数1, 方位係数2 ) の配列を作成\n",
    "    eta_H_dash_HBs = [ HeatBridgeEta(L = env_HB.L, eta = env_HB.eta_H_dash, nu1 = DC_get_nu_H(region)[env_HB.direction1], nu2 = DC_get_nu_H(region)[env_HB.direction2] ) for env_HB in env_HBs ]\n",
    "    results[\"eta_H_dash_HBs\"] = eta_H_dash_HBs\n",
    "\n",
    "    # ηAH値(-)\n",
    "    eta_A_H = get_eta_A_H(eta_H_generals + eta_H_windows + eta_H_doors , eta_H_dash_HBs, a_env)\n",
    "    results[\"eta_A_H\"] = eta_A_H\n",
    "    \n",
    "    # μH値(-)\n",
    "    mu_H = get_mu_H(float(eta_A_H), r_env)\n",
    "    results[\"mu_H\"] = mu_H\n",
    "    \n",
    "    ##### ηA値、m値の計算 (冷房期) #####\n",
    "\n",
    "    # ( 面積, 日射熱取得率, 方位係数 ) の配列を作成\n",
    "    eta_C_generals = [ EnvelopePartEta(A = env_general.A, eta = env_general.eta_C, nu = DC_get_nu_C(region)[env_general.direction] ) for env_general in env_generals ]\n",
    "    eta_C_windows  = [ EnvelopePartEta(A = env_window.A,  eta = env_window.eta_C,  nu = DC_get_nu_C(region)[env_window.direction]  ) for env_window  in env_windows  ]\n",
    "    eta_C_doors    = [ EnvelopePartEta(A = env_door.A,    eta = env_door.eta_C,    nu = DC_get_nu_C(region)[env_door.direction]    ) for env_door    in env_doors    ]\n",
    "    results[\"eta_C_generals\"] = eta_C_generals\n",
    "    results[\"eta_C_windows\"] = eta_C_windows\n",
    "    results[\"eta_C_doors\"] = eta_C_doors\n",
    "    \n",
    "    # ( 面積, 熱橋の日射熱取得率, 方位係数1, 方位係数2 ) の配列を作成\n",
    "    eta_C_dash_HBs = [ HeatBridgeEta(L = env_HB.L, eta = env_HB.eta_C_dash, nu1 = DC_get_nu_C(region)[env_HB.direction1], nu2 = DC_get_nu_C(region)[env_HB.direction2] ) for env_HB in env_HBs ]\n",
    "    results[\"eta_C_dash_HBs\"] = eta_C_dash_HBs    \n",
    "\n",
    "    # ηAC値(-)\n",
    "    eta_A_C = get_eta_A_C(eta_C_generals + eta_C_windows + eta_C_doors , eta_C_dash_HBs, a_env)\n",
    "    results[\"eta_A_C\"] = eta_A_C\n",
    "\n",
    "    # mC値(-)\n",
    "    mu_C = get_mu_C(float(eta_A_C), r_env)\n",
    "    results[\"mu_C\"] = mu_C\n",
    "    \n",
    "    return results\n"
   ]
  },
  {
   "cell_type": "markdown",
   "metadata": {},
   "source": [
    "#### 説明"
   ]
  },
  {
   "cell_type": "code",
   "execution_count": 67,
   "metadata": {
    "collapsed": false
   },
   "outputs": [
    {
     "data": {
      "text/plain": [
       "OrderedDict([('外皮の面積の合計', 55.0),\n",
       "             ('床面積の合計に対する外皮の部位の比', 1.8333333333333333),\n",
       "             ('U_generals',\n",
       "              [EnvelopePartU(A=9.0, U=1.0, H=1.0),\n",
       "               EnvelopePartU(A=9.0, U=1.0, H=1.0),\n",
       "               EnvelopePartU(A=9.0, U=1.0, H=1.0),\n",
       "               EnvelopePartU(A=9.0, U=1.0, H=1.0)]),\n",
       "             ('U_windows',\n",
       "              [EnvelopePartU(A=1.0, U=3.0, H=1.0),\n",
       "               EnvelopePartU(A=1.0, U=3.0, H=1.0)]),\n",
       "             ('U_doors', [EnvelopePartU(A=1.0, U=2.0, H=1.0)]),\n",
       "             ('psi_HBs',\n",
       "              [HeatBridgeU(L=1.0, psi=1.0, H=1.0),\n",
       "               HeatBridgeU(L=1.0, psi=1.0, H=1.0),\n",
       "               HeatBridgeU(L=1.0, psi=1.0, H=1.0)]),\n",
       "             ('psi_EF_Peris',\n",
       "              [HeatBridgeU(L=1.0, psi=1.0, H=1.0),\n",
       "               HeatBridgeU(L=1.0, psi=1.0, H=1.0),\n",
       "               HeatBridgeU(L=1.0, psi=1.0, H=1.0)]),\n",
       "             ('UA値', Decimal('0.91')),\n",
       "             ('熱損失係数(換気による熱損失を含まない) ', 1.6683333333333332),\n",
       "             ('eta_H_generals',\n",
       "              [EnvelopePartEta(A=9.0, eta=1.0, nu=0.579),\n",
       "               EnvelopePartEta(A=9.0, eta=1.0, nu=0.579),\n",
       "               EnvelopePartEta(A=9.0, eta=1.0, nu=0.579),\n",
       "               EnvelopePartEta(A=9.0, eta=1.0, nu=0.579)]),\n",
       "             ('eta_H_windows',\n",
       "              [EnvelopePartEta(A=1.0, eta=1.0, nu=0.579),\n",
       "               EnvelopePartEta(A=1.0, eta=1.0, nu=0.579)]),\n",
       "             ('eta_H_doors', [EnvelopePartEta(A=1.0, eta=1.0, nu=0.579)]),\n",
       "             ('eta_H_dash_HBs',\n",
       "              [HeatBridgeEta(L=1.0, eta=1.0, nu1=0.579, nu2=0.936),\n",
       "               HeatBridgeEta(L=1.0, eta=1.0, nu1=0.579, nu2=0.936),\n",
       "               HeatBridgeEta(L=1.0, eta=1.0, nu1=0.579, nu2=0.936)]),\n",
       "             ('eta_A_H', Decimal('45.1')),\n",
       "             ('mu_H', 0.8268333333333334),\n",
       "             ('eta_C_generals',\n",
       "              [EnvelopePartEta(A=9.0, eta=1.0, nu=0.512),\n",
       "               EnvelopePartEta(A=9.0, eta=1.0, nu=0.512),\n",
       "               EnvelopePartEta(A=9.0, eta=1.0, nu=0.512),\n",
       "               EnvelopePartEta(A=9.0, eta=1.0, nu=0.512)]),\n",
       "             ('eta_C_windows',\n",
       "              [EnvelopePartEta(A=1.0, eta=1.0, nu=0.512),\n",
       "               EnvelopePartEta(A=1.0, eta=1.0, nu=0.512)]),\n",
       "             ('eta_C_doors', [EnvelopePartEta(A=1.0, eta=1.0, nu=0.512)]),\n",
       "             ('eta_C_dash_HBs',\n",
       "              [HeatBridgeEta(L=1.0, eta=1.0, nu1=0.512, nu2=0.434),\n",
       "               HeatBridgeEta(L=1.0, eta=1.0, nu1=0.512, nu2=0.434),\n",
       "               HeatBridgeEta(L=1.0, eta=1.0, nu1=0.512, nu2=0.434)]),\n",
       "             ('eta_A_C', Decimal('38.9')),\n",
       "             ('mu_C', 0.7131666666666666)])"
      ]
     },
     "execution_count": 67,
     "metadata": {},
     "output_type": "execute_result"
    }
   ],
   "source": [
    "env_general_1 = EnvGeneral(A=9.0,U=1.0,eta_H=1.0,eta_C=1.0, direction = 'E', ASType = 'External' )\n",
    "env_general_2 = EnvGeneral(A=9.0,U=1.0,eta_H=1.0,eta_C=1.0, direction = 'E', ASType = 'External' )\n",
    "env_general_3 = EnvGeneral(A=9.0,U=1.0,eta_H=1.0,eta_C=1.0, direction = 'E', ASType = 'External' )\n",
    "env_general_4 = EnvGeneral(A=9.0,U=1.0,eta_H=1.0,eta_C=1.0, direction = 'E', ASType = 'External' )\n",
    "env_window_1 = EnvWindow(A=1.0,U=3.0,eta_H=1.0,eta_C=1.0, direction = 'E', ASType = 'External' )\n",
    "env_window_2 = EnvWindow(A=1.0,U=3.0,eta_H=1.0,eta_C=1.0, direction = 'E', ASType = 'External' )\n",
    "env_door_1 = EnvDoor(A=1.0,U=2.0,eta_H=1.0,eta_C=1.0, direction = 'E', ASType = 'External' )\n",
    "env_HB_1 = EnvHB(L=1.0,psi=1.0,eta_H_dash=1.0,eta_C_dash=1.0, direction1 = 'E', direction2 = 'S', ASType = 'External' )\n",
    "env_HB_2 = EnvHB(L=1.0,psi=1.0,eta_H_dash=1.0,eta_C_dash=1.0, direction1 = 'E', direction2 = 'S', ASType = 'External' )\n",
    "env_HB_3 = EnvHB(L=1.0,psi=1.0,eta_H_dash=1.0,eta_C_dash=1.0, direction1 = 'E', direction2 = 'S', ASType = 'External' )\n",
    "env_EF_Peri_1 = EnvEFPeri(L=1.0,psi=1.0, ASType = 'External' )\n",
    "env_EF_Peri_2 = EnvEFPeri(L=1.0,psi=1.0, ASType = 'External' )\n",
    "env_EF_Peri_3 = EnvEFPeri(L=1.0,psi=1.0, ASType = 'External' )\n",
    "\n",
    "getEnvPerformance( [ env_general_1, env_general_2, env_general_3, env_general_4 ],\n",
    "                [ env_window_1, env_window_2 ],\n",
    "                [ env_door_1 ],\n",
    "                [ env_HB_1, env_HB_2, env_HB_3 ],\n",
    "                [ env_EF_Peri_1, env_EF_Peri_2, env_EF_Peri_3 ],\n",
    "                [ 16.0 ], 30.0, 'region6' )"
   ]
  },
  {
   "cell_type": "markdown",
   "metadata": {},
   "source": [
    "### 簡易法(最も不利側の値となるようにU値やη値を選択した後の計算)"
   ]
  },
  {
   "cell_type": "markdown",
   "metadata": {},
   "source": [
    "#### 定義"
   ]
  },
  {
   "cell_type": "code",
   "execution_count": 68,
   "metadata": {
    "collapsed": false
   },
   "outputs": [],
   "source": [
    "def simpleEnvPerformanceSelected(house_type, region,\n",
    "                                 U_roof, U_wall, U_door, U_wnd, U_floor, U_base, U_base_d, psi_prm, psi_prm_d,\n",
    "                                 eta_d_H, eta_d_C, f_H, f_C, is_f_value_default, default_f_H, default_f_C):\n",
    "    # house_type: 住宅の種類(床断熱住宅・基礎断熱住宅・床断熱基礎断熱併用住宅)\n",
    "    # region: 地域の区分\n",
    "    # U_roof, U_wall, U_door, U_wnd, U_floor, U_base, U_base_d: 熱損失係数(W/m2K)(屋根・外壁・ドア・窓・床・基礎・玄関等の基礎)\n",
    "    # psi_prm, psi_prm_d: 線熱損失係数(W/mK)(土間床外周部・玄関等の土間床外周部)\n",
    "    # eta_d_H, eta_d_C: 窓のηd値(暖房期・冷房期)(-)\n",
    "    # f_H, f_C: 窓のf値(暖房期・冷房期)(-)(各窓において最も安全側の値として選択された値である。f値としてデフォルト値を使用する場合はこの値は使用しない。)\n",
    "    # is_f_value_default: f値としてデフォルト値を使用するか否か [bool値]\n",
    "    # default_f_H, default_f_C; f値としてデフォルト値を使用する場合のf値(暖房期・冷房期)(-)\n",
    "\n",
    "    results = OrderedDict()\n",
    "\n",
    "    def get_U_A_provisional(house_type, U_roof, U_wall, U_door, U_wnd, U_floor, U_base, U_base_d, psi_prm, psi_prm_d):\n",
    "        simpleArea, simpleLength = getSimpleAreaAndLength(house_type)\n",
    "        simpleH = getSimpleHValue()\n",
    "        return get_simple_U_A ( A = simpleArea, L = simpleLength, H = simpleH,\n",
    "                                U_roof = U_roof, U_wall = U_wall, U_door = U_door, U_wnd = U_wnd, U_floor_o = U_floor,\n",
    "                                U_base_o = U_base, U_base_e = U_base_d,\n",
    "                                psi_prm_o = psi_prm, psi_prm_e = psi_prm_d )\n",
    "    \n",
    "    U_A_floor_ins = get_U_A_provisional('floor_ins',U_roof, U_wall, U_door, U_wnd, U_floor, U_base, U_base_d, psi_prm, psi_prm_d)\n",
    "    U_A_base_ins  = get_U_A_provisional('base_ins' ,U_roof, U_wall, U_door, U_wnd, U_floor, U_base, U_base_d, psi_prm, psi_prm_d)\n",
    "    \n",
    "    if house_type == 'floor_ins':\n",
    "        house_type_on_calc = house_type\n",
    "        U_A = U_A_floor_ins\n",
    "    elif house_type == 'base_ins':\n",
    "        house_type_on_calc = house_type\n",
    "        U_A = U_A_base_ins\n",
    "    else:\n",
    "        U_A, house_type_on_calc = judge_simple_house_type(U_A_floor_ins, U_A_base_ins)\n",
    "    \n",
    "    results[\"Judged House Type\"] = house_type_on_calc\n",
    "    results[\"UA\"] = U_A\n",
    "    \n",
    "    simpleArea, simpleLength = getSimpleAreaAndLength(house_type_on_calc)\n",
    "\n",
    "    eta_H_roof   = get_simple_eta_H_roof(U_roof)\n",
    "    eta_H_wall   = get_simple_eta_H_wall(U_wall)\n",
    "    eta_H_door   = get_simple_eta_H_door(U_door)\n",
    "    eta_H_wnd    = get_simple_eta_H_window(eta_d_H, f_H, is_f_value_default, default_f_H)\n",
    "    eta_H_base   = get_simple_eta_H_base(U_base)\n",
    "    eta_H_base_d = get_simple_eta_H_base_d(U_base_d)\n",
    "    eta_C_roof   = get_simple_eta_C_roof(U_roof)\n",
    "    eta_C_wall   = get_simple_eta_C_wall(U_wall)\n",
    "    eta_C_door   = get_simple_eta_C_door(U_door)\n",
    "    eta_C_wnd    = get_simple_eta_C_window(eta_d_C, f_C, is_f_value_default, default_f_C)\n",
    "    eta_C_base   = get_simple_eta_C_base(U_base)\n",
    "    eta_C_base_d = get_simple_eta_C_base_d(U_base_d)\n",
    "    \n",
    "    results[\"eta_H_wnd\"]=eta_H_wnd\n",
    "    results[\"eta_C_wnd\"]=eta_C_wnd\n",
    "\n",
    "    eta_A_H = get_simple_eta_A_H(simpleArea, \n",
    "                                 DC_get_nu_H(region)['top'], get_simple_Orientation_value_from_Direction(DC_get_nu_H(region)),\n",
    "                                 eta_H_roof, eta_H_wall, eta_H_door, eta_H_wnd, eta_H_base, eta_H_base_d )\n",
    "    eta_A_C = get_simple_eta_A_C(simpleArea, \n",
    "                                 DC_get_nu_C(region)['top'], get_simple_Orientation_value_from_Direction(DC_get_nu_C(region)),\n",
    "                                 eta_C_roof, eta_C_wall, eta_C_door, eta_C_wnd, eta_C_base, eta_C_base_d )\n",
    "\n",
    "    results[\"eta_A_H\"] = eta_A_H\n",
    "    results[\"eta_A_C\"] = eta_A_C\n",
    "    \n",
    "    r_env = get_r_env(simpleArea['total_env'], simpleArea['total_floor'])\n",
    "\n",
    "    Q_dash = get_Q_dash( float(U_A), r_env )\n",
    "    results[\"Q_dash\"] = Q_dash\n",
    "    \n",
    "    Mu_H = get_mu_H(float(eta_A_H), r_env)\n",
    "    Mu_C = get_mu_C(float(eta_A_C), r_env)\n",
    "    results[\"Mu_H\"] = Mu_H\n",
    "    results[\"Mu_C\"] = Mu_C\n",
    "    return results"
   ]
  },
  {
   "cell_type": "markdown",
   "metadata": {},
   "source": [
    "#### 説明"
   ]
  },
  {
   "cell_type": "code",
   "execution_count": 69,
   "metadata": {
    "collapsed": false,
    "scrolled": true
   },
   "outputs": [
    {
     "data": {
      "text/plain": [
       "OrderedDict([('Judged House Type', 'base_ins'),\n",
       "             ('UA', Decimal('0.94')),\n",
       "             ('eta_H_wnd',\n",
       "              Orientation(D0=0.33354, D90=0.30345, D180=0.30039, D270=0.34408000017)),\n",
       "             ('eta_C_wnd',\n",
       "              Orientation(D0=0.43452, D90=0.44064, D180=0.43962, D270=0.43452)),\n",
       "             ('eta_A_H', Decimal('3.3')),\n",
       "             ('eta_A_C', Decimal('3.1')),\n",
       "             ('Q_dash', 2.8794288888888886),\n",
       "             ('Mu_H', 0.10108633333333332),\n",
       "             ('Mu_C', 0.09495988888888889)])"
      ]
     },
     "execution_count": 69,
     "metadata": {},
     "output_type": "execute_result"
    }
   ],
   "source": [
    "simpleEnvPerformanceSelected( house_type = 'base_ins', region = 'region6',\n",
    "                             U_roof=0.240,U_wall=0.530,U_door=2.330,U_wnd=3.490,U_floor=0.480,\n",
    "                             U_base=0.0, U_base_d=0.0,psi_prm=1.8,psi_prm_d=1.8,\n",
    "                             eta_d_H = 0.510, eta_d_C = 0.510,f_H=1.0, f_C=1.0, is_f_value_default=True,\n",
    "                             default_f_H = Orientation(0.654,0.595,0.589,0.674666667),\n",
    "                             default_f_C = Orientation(0.852,0.864,0.862,0.852))    "
   ]
  },
  {
   "cell_type": "markdown",
   "metadata": {},
   "source": [
    "### 簡易法(最も不利側の値となるようにU値やη値を選択する計算を含む)"
   ]
  },
  {
   "cell_type": "markdown",
   "metadata": {},
   "source": [
    "#### 定義"
   ]
  },
  {
   "cell_type": "code",
   "execution_count": 70,
   "metadata": {
    "collapsed": false
   },
   "outputs": [],
   "source": [
    "def simpleEnvPerformance(house_type, region,\n",
    "                         roofs, walls, doors, windows, floors, bases, baseds, prms, prmds,\n",
    "                         is_f_value_default,\n",
    "                         default_f_H, default_f_C\n",
    "                        ):\n",
    "    # house_type: 住宅の種類(床断熱住宅・基礎断熱住宅・床断熱基礎断熱併用住宅)\n",
    "    # region: 地域の区分\n",
    "    # roofs, walls, floors, bases, baseds: SimpleEnvGeneral (熱損失係数(W/m2K), 暖房期の日射熱取得率(-), 冷房期の日射熱取得率(-), 隣接空間の種類)\n",
    "    # doors: SimpleEnvDoor (熱損失係数(W/m2K), 暖房期の日射熱取得率(-), 冷房期の日射熱取得率(-), 隣接空間の種類)\n",
    "    # windows: SimpleEnvWindow (熱損失係数(W/m2K), 暖房期の日射熱取得率(-), 冷房期の日射熱取得率(-), 隣接空間の種類, 垂直面日射熱取得率(-), 暖房期の取得日射熱補正係数(-), 冷房期の取得日射熱補正係数(-))\n",
    "    # prms, prmds: SimpleEnvEFPeri (線熱損失係数(W/mK), 隣接空間の種類)\n",
    "    # is_f_value_default: f値としてデフォルト値を使用するか否か [bool値]\n",
    "    # default_f_H, default_f_C; f値としてデフォルト値を使用する場合のf値(暖房期・冷房期)(-)\n",
    "\n",
    "    U_roof    = get_simple_U_roof  ([(roof.U,   get_H(roof.ASType,   region)) for roof   in roofs  ])\n",
    "    U_wall    = get_simple_U_wall  ([(wall.U,   get_H(wall.ASType,   region)) for wall   in walls  ])\n",
    "    U_door    = get_simple_U_door  ([(door.U,   get_H(door.ASType,   region)) for door   in doors  ])\n",
    "    U_wnd     = get_simple_U_wnd   ([(window.U, get_H(window.ASType, region)) for window in windows]) \n",
    "    U_floor   = get_simple_U_floor ([(floor.U,  get_H(floor.ASType,  region)) for floor  in floors ])\n",
    "    U_base    = get_simple_U_base  ([(base.U,   get_H(base.ASType,   region)) for base   in bases  ])\n",
    "    U_base_d  = get_simple_U_base_d([(based.U,  get_H(based.ASType,  region)) for based  in baseds ])\n",
    "    psi_prm   = get_simple_U_prm   ([(prm.psi,  get_H(prm.ASType,    region)) for prm    in prms   ])\n",
    "    psi_prm_d = get_simple_U_prm_d ([(prmd.psi, get_H(prmd.ASType,   region)) for prmd   in prmds  ])\n",
    "    \n",
    "    eta_d_H = get_simple_eta_d_H_window([wnd.eta_d for wnd in wnds])\n",
    "    eta_d_C = get_simple_eta_d_C_window([wnd.eta_d for wnd in wnds])\n",
    "    \n",
    "    f_H = get_simple_f_H_value([wnd.f_H for wnd in wnds])\n",
    "    f_C = get_simple_f_C_value([wnd.f_C for wnd in wnds])\n",
    "    \n",
    "    return simpleEnvPerformanceSelected( house_type, region,\n",
    "                             U_roof, U_wall, U_door, U_wnd, U_floor, U_base, U_base_d, psi_prm, psi_prm_d,\n",
    "                             eta_d_H, eta_d_C, f_H, f_C, is_f_value_default, default_f_H, default_f_C )"
   ]
  },
  {
   "cell_type": "code",
   "execution_count": null,
   "metadata": {
    "collapsed": true
   },
   "outputs": [],
   "source": []
  }
 ],
 "metadata": {
  "kernelspec": {
   "display_name": "Python 3",
   "language": "python",
   "name": "python3"
  },
  "language_info": {
   "codemirror_mode": {
    "name": "ipython",
    "version": 3
   },
   "file_extension": ".py",
   "mimetype": "text/x-python",
   "name": "python",
   "nbconvert_exporter": "python",
   "pygments_lexer": "ipython3",
   "version": "3.6.2"
  }
 },
 "nbformat": 4,
 "nbformat_minor": 2
}
