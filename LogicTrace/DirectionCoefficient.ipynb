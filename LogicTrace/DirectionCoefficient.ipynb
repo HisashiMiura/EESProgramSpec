{
 "cells": [
  {
   "cell_type": "markdown",
   "metadata": {},
   "source": [
    "# Direction Coefficient / 方位係数"
   ]
  },
  {
   "cell_type": "markdown",
   "metadata": {},
   "source": [
    "## 1. Introduction"
   ]
  },
  {
   "cell_type": "markdown",
   "metadata": {},
   "source": [
    "This calculation depends on the specification of \"Appendix C Direction Coefficient\" of \"Chapter III - I Envelop Performance\" in BRI."
   ]
  },
  {
   "cell_type": "markdown",
   "metadata": {},
   "source": [
    "## 3. Functions"
   ]
  },
  {
   "cell_type": "markdown",
   "metadata": {},
   "source": [
    "Direction coefficient depends on the region and direction."
   ]
  },
  {
   "cell_type": "markdown",
   "metadata": {},
   "source": [
    "### 3.1 Heating"
   ]
  },
  {
   "cell_type": "markdown",
   "metadata": {},
   "source": [
    "| Direction | 1 | 2 | 3 | 4 | 5 | 6 | 7 | 8 |\n",
    "| :---:  | :---: | :---: | :---: | :---: | :---: | :---: | :---: | :---: |\n",
    "| S      | 0.935 | 0.856 | 0.851 | 0.815 | 0.983 | 0.936 | 1.023 | ND    |\n",
    "| SW     | 0.790 | 0.753 | 0.750 | 0.723 | 0.815 | 0.763 | 0.848 | ND    |\n",
    "| W      | 0.535 | 0.544 | 0.542 | 0.527 | 0.538 | 0.523 | 0.548 | ND    |\n",
    "| NW     | 0.325 | 0.341 | 0.351 | 0.326 | 0.297 | 0.317 | 0.284 | ND    |\n",
    "| N      | 0.260 | 0.263 | 0.284 | 0.256 | 0.238 | 0.261 | 0.227 | ND    |\n",
    "| NE     | 0.333 | 0.341 | 0.348 | 0.330 | 0.310 | 0.325 | 0.281 | ND    |\n",
    "| E      | 0.564 | 0.554 | 0.540 | 0.531 | 0.568 | 0.579 | 0.543 | ND    |\n",
    "| SE     | 0.823 | 0.766 | 0.751 | 0.724 | 0.846 | 0.833 | 0.843 | ND    |\n",
    "| top    | 1.000 | 1.000 | 1.000 | 1.000 | 1.000 | 1.000 | 1.000 | ND    |\n",
    "| bottom | 0.000 | 0.000 | 0.000 | 0.000 | 0.000 | 0.000 | 0.000 | ND    |"
   ]
  },
  {
   "cell_type": "code",
   "execution_count": 1,
   "metadata": {
    "collapsed": true
   },
   "outputs": [],
   "source": [
    "def get_nu_H(region):\n",
    "    # region: 'region1, region2, region3...region8 as string'\n",
    "    r = { 'region1' : 1, 'region2' : 2, 'region3' : 3, 'region4' : 4, 'region5' : 5, 'region6' : 6, 'region7' : 7, 'region8' : 8 }[region]\n",
    "    \n",
    "    S      = [ 0.935, 0.856, 0.851, 0.815, 0.983, 0.936, 1.023, 'ND' ][r-1]\n",
    "    SW     = [ 0.790, 0.753, 0.750, 0.723, 0.815, 0.763, 0.848, 'ND' ][r-1]\n",
    "    W      = [ 0.535, 0.544, 0.542, 0.527, 0.538, 0.523, 0.548, 'ND' ][r-1]\n",
    "    NW     = [ 0.325, 0.341, 0.351, 0.326, 0.297, 0.317, 0.284, 'ND' ][r-1]\n",
    "    N      = [ 0.260, 0.263, 0.284, 0.256, 0.238, 0.261, 0.227, 'ND' ][r-1]\n",
    "    NE     = [ 0.333, 0.341, 0.348, 0.330, 0.310, 0.325, 0.281, 'ND' ][r-1]\n",
    "    E      = [ 0.564, 0.554, 0.540, 0.531, 0.568, 0.579, 0.543, 'ND' ][r-1]\n",
    "    SE     = [ 0.823, 0.766, 0.751, 0.724, 0.846, 0.833, 0.843, 'ND' ][r-1]\n",
    "    top    = [ 1.0,   1.0,   1.0,   1.0,   1.0,   1.0,   1.0,   'ND' ][r-1]\n",
    "    bottom = [ 0.0,   0.0,   0.0,   0.0,   0.0,   0.0,   0.0,   'ND' ][r-1]\n",
    "    \n",
    "    return { 'S' : S, 'SW' : SW, 'W' : W, 'NW' : NW, 'N' : N, 'NE' : NE, 'E' : E, 'SE' : SE, 'top' : top, 'bottom' : bottom }"
   ]
  },
  {
   "cell_type": "markdown",
   "metadata": {},
   "source": [
    "### Cooling"
   ]
  },
  {
   "cell_type": "markdown",
   "metadata": {},
   "source": [
    "| direction | 1 | 2 | 3 | 4 | 5 | 6 | 7 | 8 |\n",
    "| :---:  | :---: | :---: | :---: | :---: | :---: | :---: | :---: | :---: |\n",
    "| S      | 0.502 | 0.507 | 0.476 | 0.437 | 0.472 | 0.434 | 0.412 | 0.480 |\n",
    "| SW     | 0.526 | 0.548 | 0.550 | 0.481 | 0.520 | 0.491 | 0.479 | 0.517 |\n",
    "| W      | 0.508 | 0.529 | 0.553 | 0.481 | 0.518 | 0.504 | 0.495 | 0.505 |\n",
    "| NW     | 0.411 | 0.428 | 0.447 | 0.401 | 0.442 | 0.427 | 0.406 | 0.411 |\n",
    "| N      | 0.329 | 0.341 | 0.335 | 0.322 | 0.373 | 0.341 | 0.307 | 0.325 |\n",
    "| NE     | 0.430 | 0.412 | 0.390 | 0.426 | 0.437 | 0.431 | 0.415 | 0.414 |\n",
    "| E      | 0.545 | 0.503 | 0.468 | 0.518 | 0.500 | 0.512 | 0.509 | 0.515 |\n",
    "| SE     | 0.560 | 0.527 | 0.487 | 0.508 | 0.500 | 0.498 | 0.490 | 0.528 |\n",
    "| top    | 1.000 | 1.000 | 1.000 | 1.000 | 1.000 | 1.000 | 1.000 | 1.000 |\n",
    "| bottom | 0.000 | 0.000 | 0.000 | 0.000 | 0.000 | 0.000 | 0.000 | 0.000 |"
   ]
  },
  {
   "cell_type": "code",
   "execution_count": 2,
   "metadata": {
    "collapsed": true
   },
   "outputs": [],
   "source": [
    "def get_nu_C(region):\n",
    "    # region: 'region1, region2, region3...region8 as string'\n",
    "    r = { 'region1' : 1, 'region2' : 2, 'region3' : 3, 'region4' : 4, 'region5' : 5, 'region6' : 6, 'region7' : 7, 'region8' : 8 }[region]\n",
    "\n",
    "    S      = [ 0.502, 0.507, 0.476, 0.437, 0.472, 0.434, 0.412, 0.480 ][r-1]\n",
    "    SW     = [ 0.526, 0.548, 0.550, 0.481, 0.520, 0.491, 0.479, 0.517 ][r-1]\n",
    "    W      = [ 0.508, 0.529, 0.553, 0.481, 0.518, 0.504, 0.495, 0.505 ][r-1]\n",
    "    NW     = [ 0.411, 0.428, 0.447, 0.401, 0.442, 0.427, 0.406, 0.411 ][r-1]\n",
    "    N      = [ 0.329, 0.341, 0.335, 0.322, 0.373, 0.341, 0.307, 0.325 ][r-1]\n",
    "    NE     = [ 0.430, 0.412, 0.390, 0.426, 0.437, 0.431, 0.415, 0.414 ][r-1]\n",
    "    E      = [ 0.545, 0.503, 0.468, 0.518, 0.500, 0.512, 0.509, 0.515 ][r-1]\n",
    "    SE     = [ 0.560, 0.527, 0.487, 0.508, 0.500, 0.498, 0.490, 0.528 ][r-1]\n",
    "    top    = [ 1.0,   1.0,   1.0,   1.0,   1.0,   1.0,   1.0,   1.0   ][r-1]\n",
    "    bottom = [ 0.0,   0.0,   0.0,   0.0,   0.0,   0.0,   0.0,   0.0   ][r-1]\n",
    "    \n",
    "    return { 'S' : S, 'SW' : SW, 'W' : W, 'NW' : NW, 'N' : N, 'NE' : NE, 'E' : E, 'SE' : SE, 'top' : top, 'bottom' : bottom }"
   ]
  },
  {
   "cell_type": "markdown",
   "metadata": {},
   "source": [
    "#### Example"
   ]
  },
  {
   "cell_type": "code",
   "execution_count": 3,
   "metadata": {
    "collapsed": false
   },
   "outputs": [
    {
     "data": {
      "text/plain": [
       "{'E': 0.54,\n",
       " 'N': 0.284,\n",
       " 'NE': 0.348,\n",
       " 'NW': 0.351,\n",
       " 'S': 0.851,\n",
       " 'SE': 0.751,\n",
       " 'SW': 0.75,\n",
       " 'W': 0.542,\n",
       " 'bottom': 0.0,\n",
       " 'top': 1.0}"
      ]
     },
     "execution_count": 3,
     "metadata": {},
     "output_type": "execute_result"
    }
   ],
   "source": [
    "get_nu_H('region3')"
   ]
  },
  {
   "cell_type": "code",
   "execution_count": 4,
   "metadata": {
    "collapsed": false
   },
   "outputs": [
    {
     "data": {
      "text/plain": [
       "{'E': 'ND',\n",
       " 'N': 'ND',\n",
       " 'NE': 'ND',\n",
       " 'NW': 'ND',\n",
       " 'S': 'ND',\n",
       " 'SE': 'ND',\n",
       " 'SW': 'ND',\n",
       " 'W': 'ND',\n",
       " 'bottom': 'ND',\n",
       " 'top': 'ND'}"
      ]
     },
     "execution_count": 4,
     "metadata": {},
     "output_type": "execute_result"
    }
   ],
   "source": [
    "get_nu_H('region8')"
   ]
  },
  {
   "cell_type": "code",
   "execution_count": 5,
   "metadata": {
    "collapsed": false
   },
   "outputs": [
    {
     "data": {
      "text/plain": [
       "{'E': 0.468,\n",
       " 'N': 0.335,\n",
       " 'NE': 0.39,\n",
       " 'NW': 0.447,\n",
       " 'S': 0.476,\n",
       " 'SE': 0.487,\n",
       " 'SW': 0.55,\n",
       " 'W': 0.553,\n",
       " 'bottom': 0.0,\n",
       " 'top': 1.0}"
      ]
     },
     "execution_count": 5,
     "metadata": {},
     "output_type": "execute_result"
    }
   ],
   "source": [
    "get_nu_C('region3')"
   ]
  },
  {
   "cell_type": "code",
   "execution_count": 6,
   "metadata": {
    "collapsed": false
   },
   "outputs": [
    {
     "data": {
      "text/plain": [
       "{'E': 0.515,\n",
       " 'N': 0.325,\n",
       " 'NE': 0.414,\n",
       " 'NW': 0.411,\n",
       " 'S': 0.48,\n",
       " 'SE': 0.528,\n",
       " 'SW': 0.517,\n",
       " 'W': 0.505,\n",
       " 'bottom': 0.0,\n",
       " 'top': 1.0}"
      ]
     },
     "execution_count": 6,
     "metadata": {},
     "output_type": "execute_result"
    }
   ],
   "source": [
    "get_nu_C('region8')"
   ]
  }
 ],
 "metadata": {
  "kernelspec": {
   "display_name": "Python 3",
   "language": "python",
   "name": "python3"
  },
  "language_info": {
   "codemirror_mode": {
    "name": "ipython",
    "version": 3
   },
   "file_extension": ".py",
   "mimetype": "text/x-python",
   "name": "python",
   "nbconvert_exporter": "python",
   "pygments_lexer": "ipython3",
   "version": "3.6.2"
  }
 },
 "nbformat": 4,
 "nbformat_minor": 2
}
